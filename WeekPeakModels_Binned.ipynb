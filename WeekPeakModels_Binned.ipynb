{
 "cells": [
  {
   "cell_type": "code",
   "execution_count": 1,
   "metadata": {
    "collapsed": false,
    "scrolled": true
   },
   "outputs": [],
   "source": [
    "import pandas as pd\n",
    "import numpy as np\n",
    "\n",
    "from sklearn.decomposition import *\n",
    "from sklearn import preprocessing, tree, neighbors, cross_validation\n",
    "from sklearn.naive_bayes import GaussianNB\n",
    "from sklearn.svm import SVC, LinearSVC\n",
    "from sklearn.linear_model import *\n",
    "from sklearn.neighbors import KNeighborsClassifier\n",
    "from sklearn.tree import DecisionTreeClassifier\n",
    "from sklearn.ensemble import RandomForestClassifier, AdaBoostClassifier\n",
    "from sklearn.discriminant_analysis import LinearDiscriminantAnalysis\n",
    "from sklearn.discriminant_analysis import QuadraticDiscriminantAnalysis\n",
    "from sklearn.metrics import confusion_matrix, precision_recall_fscore_support\n",
    "from sklearn.metrics import classification_report, accuracy_score\n",
    "from sklearn.externals.six import StringIO\n",
    "\n",
    "from IPython.display import Image \n",
    "import pprint\n",
    "import pydot \n",
    "import matplotlib.pyplot as plt\n",
    "from matplotlib.colors import ListedColormap\n",
    "import matplotlib\n",
    "import seaborn as sns\n",
    "sns.set()\n",
    "%matplotlib inline\n",
    "\n",
    "from time import time"
   ]
  },
  {
   "cell_type": "markdown",
   "metadata": {},
   "source": [
    "# Data Preparation and Setup\n",
    "## Import the data and declare the properties"
   ]
  },
  {
   "cell_type": "code",
   "execution_count": 2,
   "metadata": {
    "collapsed": false
   },
   "outputs": [],
   "source": [
    "filepath = 'data/full_data_genre.csv'\n",
    "\n",
    "header = None\n",
    "header_included = True\n",
    "if header_included:\n",
    "    header = 0\n",
    "\n",
    "# different sets of features\n",
    "genres = ['country', 'dance', 'hip_hop', 'pop', 'r&b', 'rock', 'alternative']\n",
    "accoustic = ['key', 'energy', 'liveness', 'tempo', 'speechiness', \n",
    "             'acousticness', 'instrumentalness','danceability', \n",
    "             'time_signature', 'loudness', 'duration', 'mode']\n",
    "artist = ['artist_familiarity', 'artist_hottness']\n",
    "# feature properties, 0: numerical, 1: categorical\n",
    "genres_types = [1,1,1,1,1,1,1]\n",
    "accoustic_types = [1, 0, 0, 0, 0, 0, 0, 0, 0, 0, 0, 1]\n",
    "artist_types = [0, 0]\n",
    "\n",
    "# features used in prediction\n",
    "feature_names = accoustic+artist+genres\n",
    "feature_num = len(feature_names)\n",
    "feature_types = accoustic_types+artist_types+genres_types\n",
    "\n",
    "# predict weeks or peak\n",
    "pred_name = 'weeks' # 'peak'\n",
    "\n",
    "# the percentage of entire dataset using for test dataset\n",
    "test_percent = 0.3 \n",
    "\n",
    "df = pd.read_csv(filepath, header = header)\n",
    "# only get the songs that were in billboard\n",
    "criterion = df['weeks'].map(lambda x: x != 0)\n",
    "df = df[criterion]\n",
    "\n",
    "raw_X = np.array(df[feature_names])\n",
    "raw_Y = np.array(df[pred_name].map(lambda x: int(x)).tolist())"
   ]
  },
  {
   "cell_type": "markdown",
   "metadata": {},
   "source": [
    "## Bin weeks(continuous variable) into 9 bins"
   ]
  },
  {
   "cell_type": "code",
   "execution_count": 3,
   "metadata": {
    "collapsed": true
   },
   "outputs": [],
   "source": [
    "#bin by freq\n",
    "sorted_Y = np.sort(raw_Y)\n",
    "num_of_rec = len(raw_Y)\n",
    "num_of_bins = 9\n",
    "bins = [0]\n",
    "for i in range(1,num_of_bins):\n",
    "    bins = np.append(bins,[sorted_Y[i*(num_of_rec//num_of_bins)]+1])\n",
    "    \n",
    "bins = np.append(bins,[10000])\n",
    "binned_Y = np.digitize(raw_Y, bins)\n",
    "\n",
    "target_names_int = list(set(binned_Y.tolist()))"
   ]
  },
  {
   "cell_type": "code",
   "execution_count": 4,
   "metadata": {
    "collapsed": false
   },
   "outputs": [
    {
     "name": "stdout",
     "output_type": "stream",
     "text": [
      "Boundtries of bins\n",
      "[    0     4     6     9    11    14    17    20    21 10000]\n"
     ]
    }
   ],
   "source": [
    "print('Boundtries of bins:')\n",
    "print(bins)"
   ]
  },
  {
   "cell_type": "code",
   "execution_count": 5,
   "metadata": {
    "collapsed": false
   },
   "outputs": [
    {
     "data": {
      "text/html": [
       "<div>\n",
       "<table border=\"1\" class=\"dataframe\">\n",
       "  <thead>\n",
       "    <tr style=\"text-align: right;\">\n",
       "      <th></th>\n",
       "      <th>raw</th>\n",
       "    </tr>\n",
       "    <tr>\n",
       "      <th>binned</th>\n",
       "      <th></th>\n",
       "    </tr>\n",
       "  </thead>\n",
       "  <tbody>\n",
       "    <tr>\n",
       "      <th>1</th>\n",
       "      <td>699</td>\n",
       "    </tr>\n",
       "    <tr>\n",
       "      <th>2</th>\n",
       "      <td>420</td>\n",
       "    </tr>\n",
       "    <tr>\n",
       "      <th>3</th>\n",
       "      <td>634</td>\n",
       "    </tr>\n",
       "    <tr>\n",
       "      <th>4</th>\n",
       "      <td>427</td>\n",
       "    </tr>\n",
       "    <tr>\n",
       "      <th>5</th>\n",
       "      <td>575</td>\n",
       "    </tr>\n",
       "    <tr>\n",
       "      <th>6</th>\n",
       "      <td>504</td>\n",
       "    </tr>\n",
       "    <tr>\n",
       "      <th>7</th>\n",
       "      <td>440</td>\n",
       "    </tr>\n",
       "    <tr>\n",
       "      <th>8</th>\n",
       "      <td>520</td>\n",
       "    </tr>\n",
       "    <tr>\n",
       "      <th>9</th>\n",
       "      <td>521</td>\n",
       "    </tr>\n",
       "  </tbody>\n",
       "</table>\n",
       "</div>"
      ],
      "text/plain": [
       "        raw\n",
       "binned     \n",
       "1       699\n",
       "2       420\n",
       "3       634\n",
       "4       427\n",
       "5       575\n",
       "6       504\n",
       "7       440\n",
       "8       520\n",
       "9       521"
      ]
     },
     "execution_count": 5,
     "metadata": {},
     "output_type": "execute_result"
    }
   ],
   "source": [
    "pd.DataFrame({'binned': binned_Y, 'raw': raw_Y}).groupby('binned').count()"
   ]
  },
  {
   "cell_type": "markdown",
   "metadata": {
    "collapsed": true
   },
   "source": [
    "**Number of instances in each bin**"
   ]
  },
  {
   "cell_type": "markdown",
   "metadata": {},
   "source": [
    "## Another test dataset that is not included in original dataset"
   ]
  },
  {
   "cell_type": "code",
   "execution_count": 6,
   "metadata": {
    "collapsed": false
   },
   "outputs": [],
   "source": [
    "new = pd.read_csv('data/new_song.csv', header = header)\n",
    "new_raw_X = np.array(new[feature_names])\n",
    "new_raw_Y = np.array(new[pred_name].map(lambda x: int(x)).tolist())\n",
    "\n",
    "new_binned_Y = np.digitize(new_raw_Y, bins)"
   ]
  },
  {
   "cell_type": "markdown",
   "metadata": {},
   "source": [
    "## Classification report options"
   ]
  },
  {
   "cell_type": "code",
   "execution_count": 7,
   "metadata": {
    "collapsed": false
   },
   "outputs": [],
   "source": [
    "class Options(object):\n",
    "    pass\n",
    "\n",
    "opts = Options()\n",
    "\n",
    "opts.DTree = False\n",
    "# opts.lsvc = False\n",
    "\n",
    "# Save decision tree to pdf\n",
    "opts.save_DTree = False\n",
    "\n",
    "# Print a detailed classification report.\n",
    "opts.print_report = True\n",
    "# Select some number of features using a chi-squared test\n",
    "opts.select_chi2 = 3\n",
    "# Print the confusion matrix.\n",
    "opts.print_cm = False\n",
    "# Print normalized confusion matrix.\n",
    "opts.print_norm_cm = True"
   ]
  },
  {
   "cell_type": "markdown",
   "metadata": {},
   "source": [
    "## Other functions and class"
   ]
  },
  {
   "cell_type": "code",
   "execution_count": 8,
   "metadata": {
    "collapsed": true
   },
   "outputs": [],
   "source": [
    "def plot_confusion_matrix(cm, title='Confusion matrix', cmap=plt.cm.Blues):\n",
    "    \n",
    "    plt.figure(figsize=(5, 5))\n",
    " \n",
    "    plt.imshow(cm, interpolation='nearest', cmap=cmap)\n",
    "    plt.title(title)\n",
    "    plt.colorbar()\n",
    "    tick_marks = np.arange(len(target_names))\n",
    "    plt.xticks(tick_marks, target_names, rotation=45)\n",
    "    plt.yticks(tick_marks, target_names)\n",
    "    plt.tight_layout()\n",
    "    plt.ylabel('True label')\n",
    "    plt.xlabel('Predicted label')\n",
    "    \n",
    "    plt.show()"
   ]
  },
  {
   "cell_type": "code",
   "execution_count": 9,
   "metadata": {
    "collapsed": false
   },
   "outputs": [],
   "source": [
    "class pilot:\n",
    "    def __init__(self, x, y, dataset_split_random_state = None):\n",
    "        self.X_train, self.X_test, self.Y_train, self.Y_test = cross_validation.train_test_split(x, y, \n",
    "                                                                                                 random_state = dataset_split_random_state)\n",
    "    \n",
    "    def get_dataset(self):\n",
    "        return self.X_train, self.X_test, self.Y_train, self.Y_test\n",
    "    \n",
    "    def benchmark(self,clf):\n",
    "        t0 = time()\n",
    "        clf = clf.fit(self.X_train, self.Y_train)\n",
    "        train_time = time() - t0\n",
    "\n",
    "        t0 = time()\n",
    "        Y_predict = clf.predict(self.X_test)\n",
    "        test_time = time() - t0\n",
    "\n",
    "        score = accuracy_score(self.Y_test, Y_predict)\n",
    "        cm = confusion_matrix(self.Y_test, Y_predict)\n",
    "        report = classification_report(self.Y_test,Y_predict, target_names = target_names)\n",
    "        \n",
    "        print('_' * 80)\n",
    "        print(\"Training: \")\n",
    "        print(clf)\n",
    "        print()\n",
    "        print(\"train time: %0.3fs\" % train_time)\n",
    "        print(\"test time:  %0.3fs\" % test_time)\n",
    "        print(\"accuracy:   %0.3f\" % score)\n",
    "        print()\n",
    "        if opts.print_report:\n",
    "            print(\"Classification report:\")\n",
    "            print(report)\n",
    "\n",
    "        if opts.print_cm:\n",
    "            plot_confusion_matrix(cm)\n",
    "\n",
    "        if opts.print_norm_cm:\n",
    "            cm_normalized = cm.astype('float') / cm.sum(axis=1)[:, np.newaxis]\n",
    "            plot_confusion_matrix(cm_normalized, title='Normalized confusion matrix')\n",
    "\n",
    "        if opts.DTree and opts.save_DTree:\n",
    "            opts.DTree = False\n",
    "            # save dot file\n",
    "            with open(\"data/DTree.dot\", 'w') as f:\n",
    "                f = tree.export_graphviz(clf, out_file=f)\n",
    "            # save to pdf\n",
    "            dot_data = StringIO() \n",
    "            tree.export_graphviz(clf, out_file=dot_data,  \n",
    "                                 feature_names=feature_names,  \n",
    "                                 class_names=target_names,  \n",
    "                                 filled=True)  \n",
    "            graph = pydot.graph_from_dot_data(dot_data.getvalue())  \n",
    "            graph.write_pdf(\"data/DTree.pdf\")\n",
    "            \n",
    "        return clf, score, report, train_time, test_time\n",
    "    \n",
    "    def DTree(self, **params): # **params set parameters for classifier\n",
    "        \n",
    "        clf = tree.DecisionTreeClassifier()\n",
    "\n",
    "        default_params = clf.get_params(deep=True)\n",
    "        if params!= {}:\n",
    "            for key in params:\n",
    "                if key in default_params:\n",
    "                    default_params[key] = params[key]\n",
    "\n",
    "            clf.set_params(class_weight = default_params['class_weight'], criterion = default_params['criterion'], \n",
    "                           max_depth = default_params['max_depth'], max_leaf_nodes = default_params['max_leaf_nodes'], \n",
    "                           min_samples_leaf = default_params['min_samples_leaf'], \n",
    "                           min_weight_fraction_leaf = default_params['min_weight_fraction_leaf'],\n",
    "                           presort = default_params['presort'], random_state = default_params['random_state'],\n",
    "                           splitter = default_params['splitter'])\n",
    "        \n",
    "        opts.DTree = True\n",
    "        return self.benchmark(clf)\n",
    "    \n",
    "    \n",
    "    def KNN(self, **params): # **params set parameters for classifier\n",
    "        clf = neighbors.KNeighborsClassifier()\n",
    "        default_params = clf.get_params(deep=True)\n",
    "        if params!= {}:\n",
    "            for key in params:\n",
    "                if key in default_params:\n",
    "                    default_params[key] = params[key]\n",
    "                    \n",
    "        clf.set_params(algorithm = default_params['algorithm'], leaf_size = default_params['leaf_size'], \n",
    "                           metric = default_params['metric'], metric_params = default_params['metric_params'], \n",
    "                           n_jobs=default_params['n_jobs'], n_neighbors = default_params['n_neighbors'],\n",
    "                           p = default_params['p'], weights = default_params['weights'])\n",
    "        \n",
    "        return self.benchmark(clf)\n",
    "    \n",
    "    def GaussianNaiveBayes(self):\n",
    "        gnb = GaussianNB()\n",
    "        return self.benchmark(gnb)\n",
    "    \n",
    "    def linearSVC(self, **params):\n",
    "        lsvc = LinearSVC()\n",
    "        default_params = lsvc.get_params(deep=True)\n",
    "        if params!= {}:\n",
    "            for key in params:\n",
    "                if key in default_params:\n",
    "                    default_params[key] = params[key]\n",
    "                    \n",
    "        lsvc.set_params(penalty = default_params['penalty'], loss = default_params['loss'], \n",
    "                        dual = default_params['dual'], tol = default_params['tol'], \n",
    "                        C=default_params['C'], multi_class = default_params['multi_class'],\n",
    "                        fit_intercept = default_params['fit_intercept'],\n",
    "                        intercept_scaling = default_params['intercept_scaling'],\n",
    "                        class_weight = default_params['class_weight'],\n",
    "                        verbose = default_params['verbose'],\n",
    "                        random_state = default_params['random_state'],\n",
    "                        max_iter = default_params['max_iter'])\n",
    "    \n",
    "        return self.benchmark(lsvc)\n",
    "    \n",
    "    def RandomForest(self, **params):\n",
    "        rfc = RandomForestClassifier()\n",
    "        return self.benchmark(rfc) \n",
    "    \n",
    "    def logisticRegression(self, **params):\n",
    "        clf = LogisticRegression()\n",
    "\n",
    "        default_params = clf.get_params(deep=True)\n",
    "        if params!= {}:\n",
    "            for key in params:\n",
    "                if key in default_params:\n",
    "                    default_params[key] = params[key]      \n",
    "            \n",
    "            clf.set_params(C = default_params['C'], \n",
    "                           class_weight = default_params['class_weight'],\n",
    "                           dual = default_params['dual'],\n",
    "                           fit_intercept = default_params['fit_intercept'], \n",
    "                           intercept_scaling = default_params['intercept_scaling'], \n",
    "                           max_iter=default_params['max_iter'],\n",
    "                           multi_class = default_params['multi_class'],\n",
    "                           n_jobs = default_params['n_jobs'],\n",
    "                           penalty = default_params['penalty'],\n",
    "                           random_state= default_params['random_state'],\n",
    "                           solver = default_params['solver'],\n",
    "                           tol = default_params['tol'],\n",
    "                           verbose = default_params['verbose'],\n",
    "                           warm_start = default_params['warm_start'])\n",
    "        \n",
    "        return self.benchmark(clf)"
   ]
  },
  {
   "cell_type": "markdown",
   "metadata": {},
   "source": [
    "## Data normalization:\n",
    "     - numerical data: normalize to range [0, 1]\n",
    "     - categorical data: label with 0 to k-1"
   ]
  },
  {
   "cell_type": "code",
   "execution_count": 10,
   "metadata": {
    "collapsed": false
   },
   "outputs": [],
   "source": [
    "def data_norm(x, y, fnames, ftypes, tnames):\n",
    "    new_x = np.array(x)\n",
    "\n",
    "    fnum = len(fnames)\n",
    "    numerical_features = [fnames[i] for i in range(fnum) if ftypes[i] == 0]\n",
    "    categorical_features = [fnames[i] for i in range(fnum) if ftypes[i] == 1]\n",
    "\n",
    "    le = preprocessing.LabelEncoder()\n",
    "\n",
    "    for i in range(fnum):\n",
    "        if ftypes[i] == 0:\n",
    "            new_x[:, i] = preprocessing.minmax_scale(x[:, i], feature_range=(-1, 1), axis=0, copy=True)\n",
    "        elif ftypes[i] == 1:\n",
    "            le.fit(list(set(x[:, i])))\n",
    "            new_x[:, i] = le.transform(x[:, i]) \n",
    "\n",
    "    le.fit(tnames)\n",
    "    new_y = le.transform(y)\n",
    "    new_tnames = list(map(str,tnames))\n",
    "    \n",
    "    return new_x, new_y, new_tnames"
   ]
  },
  {
   "cell_type": "code",
   "execution_count": 11,
   "metadata": {
    "collapsed": false
   },
   "outputs": [],
   "source": [
    "X_norm, Y_norm, target_names = data_norm(x=raw_X, y=binned_Y,\n",
    "                                         fnames=feature_names, ftypes=feature_types, tnames=target_names_int)"
   ]
  },
  {
   "cell_type": "code",
   "execution_count": 12,
   "metadata": {
    "collapsed": false
   },
   "outputs": [],
   "source": [
    "new_X_norm, new_Y_norm, target_names = data_norm(x=new_raw_X, y=new_binned_Y,\n",
    "                                                 fnames=feature_names, ftypes=feature_types, tnames=target_names_int)"
   ]
  },
  {
   "cell_type": "markdown",
   "metadata": {},
   "source": [
    "## Training models and results"
   ]
  },
  {
   "cell_type": "code",
   "execution_count": 13,
   "metadata": {
    "collapsed": false
   },
   "outputs": [],
   "source": [
    "example = pilot(X_norm,Y_norm)"
   ]
  },
  {
   "cell_type": "code",
   "execution_count": 14,
   "metadata": {
    "collapsed": false,
    "scrolled": false
   },
   "outputs": [
    {
     "name": "stdout",
     "output_type": "stream",
     "text": [
      "________________________________________________________________________________\n",
      "Training: \n",
      "DecisionTreeClassifier(class_weight=None, criterion='gini', max_depth=None,\n",
      "            max_features=None, max_leaf_nodes=None, min_samples_leaf=20,\n",
      "            min_samples_split=2, min_weight_fraction_leaf=0.0,\n",
      "            presort=False, random_state=None, splitter='best')\n",
      "\n",
      "train time: 0.058s\n",
      "test time:  0.001s\n",
      "accuracy:   0.166\n",
      "\n",
      "Classification report:\n",
      "             precision    recall  f1-score   support\n",
      "\n",
      "          1       0.23      0.29      0.26       173\n",
      "          2       0.15      0.09      0.11       108\n",
      "          3       0.19      0.19      0.19       174\n",
      "          4       0.10      0.05      0.07       110\n",
      "          5       0.10      0.11      0.11       132\n",
      "          6       0.14      0.16      0.15       118\n",
      "          7       0.06      0.04      0.05       100\n",
      "          8       0.19      0.29      0.23       122\n",
      "          9       0.19      0.17      0.18       148\n",
      "\n",
      "avg / total       0.16      0.17      0.16      1185\n",
      "\n"
     ]
    },
    {
     "data": {
      "image/png": "[encoded data removed]",
      "text/plain": [
       "<matplotlib.figure.Figure at 0x1bf7022d9b0>"
      ]
     },
     "metadata": {},
     "output_type": "display_data"
    }
   ],
   "source": [
    "tree_result = example.DTree(min_samples_leaf = 20)"
   ]
  },
  {
   "cell_type": "code",
   "execution_count": 15,
   "metadata": {
    "collapsed": false
   },
   "outputs": [
    {
     "name": "stdout",
     "output_type": "stream",
     "text": [
      "prediction: [2 7 3]\n",
      "prediction prob: [[ 0.2         0.15        0.25        0.05        0.05        0.          0.1\n",
      "   0.          0.2       ]\n",
      " [ 0.04347826  0.08695652  0.17391304  0.08695652  0.          0.13043478\n",
      "   0.04347826  0.30434783  0.13043478]\n",
      " [ 0.11111111  0.02777778  0.02777778  0.30555556  0.16666667  0.11111111\n",
      "   0.08333333  0.05555556  0.11111111]]\n"
     ]
    }
   ],
   "source": [
    "print('prediction:', tree_result[0].predict(new_X_norm))\n",
    "try: print('prediction prob:', tree_result[0].predict_proba(new_X_norm))\n",
    "except: pass"
   ]
  },
  {
   "cell_type": "code",
   "execution_count": 16,
   "metadata": {
    "collapsed": false
   },
   "outputs": [
    {
     "data": {
      "text/plain": [
       "array([False, False,  True], dtype=bool)"
      ]
     },
     "execution_count": 16,
     "metadata": {},
     "output_type": "execute_result"
    }
   ],
   "source": [
    "tree_result[0].predict(new_X_norm) == new_Y_norm"
   ]
  },
  {
   "cell_type": "code",
   "execution_count": 17,
   "metadata": {
    "collapsed": false
   },
   "outputs": [
    {
     "name": "stdout",
     "output_type": "stream",
     "text": [
      "________________________________________________________________________________\n",
      "Training: \n",
      "LogisticRegression(C=1.0, class_weight=None, dual=False, fit_intercept=True,\n",
      "          intercept_scaling=1, max_iter=100, multi_class='ovr', n_jobs=1,\n",
      "          penalty='l2', random_state=None, solver='liblinear', tol=0.0001,\n",
      "          verbose=0, warm_start=False)\n",
      "\n",
      "train time: 0.202s\n",
      "test time:  0.001s\n",
      "accuracy:   0.191\n",
      "\n",
      "Classification report:\n",
      "             precision    recall  f1-score   support\n",
      "\n",
      "          1       0.21      0.43      0.28       173\n",
      "          2       0.03      0.01      0.01       108\n",
      "          3       0.19      0.18      0.18       174\n",
      "          4       0.12      0.02      0.03       110\n",
      "          5       0.13      0.14      0.13       132\n",
      "          6       0.16      0.08      0.10       118\n",
      "          7       0.09      0.03      0.04       100\n",
      "          8       0.21      0.35      0.26       122\n",
      "          9       0.26      0.29      0.28       148\n",
      "\n",
      "avg / total       0.16      0.19      0.16      1185\n",
      "\n"
     ]
    },
    {
     "data": {
      "image/png": "[encoded data removed]",
      "text/plain": [
       "<matplotlib.figure.Figure at 0x1bf72bd1080>"
      ]
     },
     "metadata": {},
     "output_type": "display_data"
    }
   ],
   "source": [
    "lgr = example.logisticRegression()"
   ]
  },
  {
   "cell_type": "code",
   "execution_count": 18,
   "metadata": {
    "collapsed": false
   },
   "outputs": [
    {
     "name": "stdout",
     "output_type": "stream",
     "text": [
      "prediction: [0 7 0]\n",
      "prediction prob: [[ 0.32841756  0.13833981  0.15827025  0.14274158  0.04045821  0.06784817\n",
      "   0.0974912   0.00863762  0.0177956 ]\n",
      " [ 0.00081826  0.02230745  0.01206987  0.01799483  0.04606171  0.22414923\n",
      "   0.23428813  0.29008193  0.1522286 ]\n",
      " [ 0.23734429  0.11426352  0.14065219  0.12170088  0.16162072  0.10203775\n",
      "   0.04090364  0.01361169  0.06786532]]\n"
     ]
    }
   ],
   "source": [
    "print('prediction:', lgr[0].predict(new_X_norm))\n",
    "try: print('prediction prob:', lgr[0].predict_proba(new_X_norm))\n",
    "except: pass"
   ]
  },
  {
   "cell_type": "code",
   "execution_count": 19,
   "metadata": {
    "collapsed": false
   },
   "outputs": [
    {
     "data": {
      "text/plain": [
       "array([False, False, False], dtype=bool)"
      ]
     },
     "execution_count": 19,
     "metadata": {},
     "output_type": "execute_result"
    }
   ],
   "source": [
    "lgr[0].predict(new_X_norm) == new_Y_norm"
   ]
  },
  {
   "cell_type": "code",
   "execution_count": 20,
   "metadata": {
    "collapsed": false,
    "scrolled": false
   },
   "outputs": [
    {
     "name": "stdout",
     "output_type": "stream",
     "text": [
      "________________________________________________________________________________\n",
      "Training: \n",
      "KNeighborsClassifier(algorithm='auto', leaf_size=30, metric='minkowski',\n",
      "           metric_params=None, n_jobs=1, n_neighbors=5, p=2,\n",
      "           weights='uniform')\n",
      "\n",
      "train time: 0.015s\n",
      "test time:  0.095s\n",
      "accuracy:   0.165\n",
      "\n",
      "Classification report:\n",
      "             precision    recall  f1-score   support\n",
      "\n",
      "          1       0.17      0.33      0.23       173\n",
      "          2       0.10      0.10      0.10       108\n",
      "          3       0.18      0.18      0.18       174\n",
      "          4       0.10      0.05      0.07       110\n",
      "          5       0.11      0.11      0.11       132\n",
      "          6       0.12      0.09      0.11       118\n",
      "          7       0.10      0.08      0.09       100\n",
      "          8       0.25      0.24      0.25       122\n",
      "          9       0.34      0.18      0.23       148\n",
      "\n",
      "avg / total       0.17      0.16      0.16      1185\n",
      "\n"
     ]
    },
    {
     "data": {
      "image/png": "[encoded data removed]",
      "text/plain": [
       "<matplotlib.figure.Figure at 0x1bf75cc97b8>"
      ]
     },
     "metadata": {},
     "output_type": "display_data"
    }
   ],
   "source": [
    "knn_result = example.KNN(n_neighbors = 5)"
   ]
  },
  {
   "cell_type": "code",
   "execution_count": 21,
   "metadata": {
    "collapsed": false
   },
   "outputs": [
    {
     "name": "stdout",
     "output_type": "stream",
     "text": [
      "prediction: [6 6 6]\n",
      "prediction prob: [[ 0.2  0.   0.   0.   0.2  0.   0.4  0.   0.2]\n",
      " [ 0.   0.   0.   0.   0.2  0.   0.8  0.   0. ]\n",
      " [ 0.   0.   0.2  0.2  0.2  0.   0.4  0.   0. ]]\n"
     ]
    }
   ],
   "source": [
    "print('prediction:', knn_result[0].predict(new_X_norm))\n",
    "try: print('prediction prob:', knn_result[0].predict_proba(new_X_norm))\n",
    "except: pass"
   ]
  },
  {
   "cell_type": "code",
   "execution_count": 22,
   "metadata": {
    "collapsed": false
   },
   "outputs": [
    {
     "data": {
      "text/plain": [
       "array([False, False, False], dtype=bool)"
      ]
     },
     "execution_count": 22,
     "metadata": {},
     "output_type": "execute_result"
    }
   ],
   "source": [
    "knn_result[0].predict(new_X_norm) == new_Y_norm"
   ]
  },
  {
   "cell_type": "code",
   "execution_count": 23,
   "metadata": {
    "collapsed": false
   },
   "outputs": [
    {
     "name": "stdout",
     "output_type": "stream",
     "text": [
      "________________________________________________________________________________\n",
      "Training: \n",
      "GaussianNB()\n",
      "\n",
      "train time: 0.012s\n",
      "test time:  0.006s\n",
      "accuracy:   0.187\n",
      "\n",
      "Classification report:\n",
      "             precision    recall  f1-score   support\n",
      "\n",
      "          1       0.19      0.10      0.13       173\n",
      "          2       0.12      0.10      0.11       108\n",
      "          3       0.22      0.36      0.28       174\n",
      "          4       0.06      0.03      0.04       110\n",
      "          5       0.11      0.02      0.04       132\n",
      "          6       0.10      0.13      0.11       118\n",
      "          7       0.05      0.02      0.03       100\n",
      "          8       0.20      0.42      0.27       122\n",
      "          9       0.29      0.38      0.33       148\n",
      "\n",
      "avg / total       0.16      0.19      0.16      1185\n",
      "\n"
     ]
    },
    {
     "data": {
      "image/png": "[encoded data removed]",
      "text/plain": [
       "<matplotlib.figure.Figure at 0x1bf75ec6630>"
      ]
     },
     "metadata": {},
     "output_type": "display_data"
    }
   ],
   "source": [
    "gnb_result = example.GaussianNaiveBayes()"
   ]
  },
  {
   "cell_type": "code",
   "execution_count": 24,
   "metadata": {
    "collapsed": false
   },
   "outputs": [
    {
     "name": "stdout",
     "output_type": "stream",
     "text": [
      "prediction: [4 4 4]\n",
      "prediction prob: [[  8.96100232e-05   2.41160157e-11   2.92579903e-10   5.31992974e-02\n",
      "    9.46710852e-01   2.40198858e-07   1.37219643e-16   3.45725197e-48\n",
      "    1.81702151e-11]\n",
      " [  2.58181026e-15   2.64106940e-30   1.99312593e-25   4.09102851e-24\n",
      "    9.99993221e-01   1.88824309e-14   5.64252133e-06   2.03028433e-48\n",
      "    1.13695298e-06]\n",
      " [  1.81910401e-08   2.76648572e-13   1.48467574e-09   6.43769727e-03\n",
      "    9.93562283e-01   2.87949041e-11   7.42239862e-17   1.43237591e-51\n",
      "    1.31358824e-12]]\n"
     ]
    }
   ],
   "source": [
    "print('prediction:', gnb_result[0].predict(new_X_norm))\n",
    "try: print('prediction prob:', gnb_result[0].predict_proba(new_X_norm))\n",
    "except: pass"
   ]
  },
  {
   "cell_type": "code",
   "execution_count": 25,
   "metadata": {
    "collapsed": false
   },
   "outputs": [
    {
     "data": {
      "text/plain": [
       "array([    0,     4,     6,     9,    11,    14,    17,    20,    21, 10000], dtype=int64)"
      ]
     },
     "execution_count": 25,
     "metadata": {},
     "output_type": "execute_result"
    }
   ],
   "source": [
    "bins"
   ]
  },
  {
   "cell_type": "code",
   "execution_count": 26,
   "metadata": {
    "collapsed": false
   },
   "outputs": [
    {
     "data": {
      "text/plain": [
       "array([ True, False, False], dtype=bool)"
      ]
     },
     "execution_count": 26,
     "metadata": {},
     "output_type": "execute_result"
    }
   ],
   "source": [
    "gnb_result[0].predict(new_X_norm) == new_Y_norm"
   ]
  },
  {
   "cell_type": "code",
   "execution_count": 27,
   "metadata": {
    "collapsed": false
   },
   "outputs": [
    {
     "name": "stdout",
     "output_type": "stream",
     "text": [
      "________________________________________________________________________________\n",
      "Training: \n",
      "LinearSVC(C=1.0, class_weight=None, dual=True, fit_intercept=True,\n",
      "     intercept_scaling=1, loss='squared_hinge', max_iter=1000,\n",
      "     multi_class='ovr', penalty='l2', random_state=None, tol=0.0001,\n",
      "     verbose=0)\n",
      "\n",
      "train time: 4.192s\n",
      "test time:  0.001s\n",
      "accuracy:   0.203\n",
      "\n",
      "Classification report:\n",
      "             precision    recall  f1-score   support\n",
      "\n",
      "          1       0.21      0.43      0.28       173\n",
      "          2       0.07      0.01      0.02       108\n",
      "          3       0.22      0.22      0.22       174\n",
      "          4       0.00      0.00      0.00       110\n",
      "          5       0.13      0.13      0.13       132\n",
      "          6       0.16      0.08      0.10       118\n",
      "          7       0.08      0.01      0.02       100\n",
      "          8       0.21      0.44      0.28       122\n",
      "          9       0.26      0.30      0.28       148\n",
      "\n",
      "avg / total       0.16      0.20      0.17      1185\n",
      "\n"
     ]
    },
    {
     "data": {
      "image/png": "[encoded data removed]",
      "text/plain": [
       "<matplotlib.figure.Figure at 0x1bf75fa88d0>"
      ]
     },
     "metadata": {},
     "output_type": "display_data"
    }
   ],
   "source": [
    "lsvc_result = example.linearSVC()"
   ]
  },
  {
   "cell_type": "code",
   "execution_count": 28,
   "metadata": {
    "collapsed": false
   },
   "outputs": [
    {
     "name": "stdout",
     "output_type": "stream",
     "text": [
      "prediction: [0 7 0]\n"
     ]
    }
   ],
   "source": [
    "print('prediction:', lsvc_result[0].predict(new_X_norm))\n",
    "try: print('prediction prob:', lsvc_result[0].predict_proba(new_X_norm))\n",
    "except: pass"
   ]
  },
  {
   "cell_type": "code",
   "execution_count": 29,
   "metadata": {
    "collapsed": false
   },
   "outputs": [
    {
     "data": {
      "text/plain": [
       "array([False, False, False], dtype=bool)"
      ]
     },
     "execution_count": 29,
     "metadata": {},
     "output_type": "execute_result"
    }
   ],
   "source": [
    "lsvc_result[0].predict(new_X_norm) == new_Y_norm"
   ]
  },
  {
   "cell_type": "code",
   "execution_count": 30,
   "metadata": {
    "collapsed": false
   },
   "outputs": [
    {
     "name": "stdout",
     "output_type": "stream",
     "text": [
      "________________________________________________________________________________\n",
      "Training: \n",
      "RandomForestClassifier(bootstrap=True, class_weight=None, criterion='gini',\n",
      "            max_depth=None, max_features='auto', max_leaf_nodes=None,\n",
      "            min_samples_leaf=1, min_samples_split=2,\n",
      "            min_weight_fraction_leaf=0.0, n_estimators=10, n_jobs=1,\n",
      "            oob_score=False, random_state=None, verbose=0,\n",
      "            warm_start=False)\n",
      "\n",
      "train time: 0.166s\n",
      "test time:  0.006s\n",
      "accuracy:   0.187\n",
      "\n",
      "Classification report:\n",
      "             precision    recall  f1-score   support\n",
      "\n",
      "          1       0.22      0.38      0.28       173\n",
      "          2       0.13      0.12      0.12       108\n",
      "          3       0.23      0.26      0.24       174\n",
      "          4       0.13      0.09      0.11       110\n",
      "          5       0.13      0.13      0.13       132\n",
      "          6       0.15      0.12      0.13       118\n",
      "          7       0.12      0.07      0.09       100\n",
      "          8       0.20      0.20      0.20       122\n",
      "          9       0.26      0.18      0.21       148\n",
      "\n",
      "avg / total       0.18      0.19      0.18      1185\n",
      "\n"
     ]
    },
    {
     "data": {
      "image/png": "[encoded data removed]",
      "text/plain": [
       "<matplotlib.figure.Figure at 0x1bf76b7d358>"
      ]
     },
     "metadata": {},
     "output_type": "display_data"
    }
   ],
   "source": [
    "rfc_result = example.RandomForest()"
   ]
  },
  {
   "cell_type": "code",
   "execution_count": 31,
   "metadata": {
    "collapsed": false
   },
   "outputs": [
    {
     "name": "stdout",
     "output_type": "stream",
     "text": [
      "prediction: [1 0 3]\n",
      "prediction prob: [[ 0.   0.3  0.1  0.1  0.1  0.1  0.1  0.   0.2]\n",
      " [ 0.2  0.   0.   0.   0.2  0.1  0.1  0.2  0.2]\n",
      " [ 0.1  0.   0.1  0.2  0.   0.2  0.2  0.1  0.1]]\n"
     ]
    }
   ],
   "source": [
    "print('prediction:', rfc_result[0].predict(new_X_norm))\n",
    "try: print('prediction prob:', rfc_result[0].predict_proba(new_X_norm))\n",
    "except: pass"
   ]
  },
  {
   "cell_type": "code",
   "execution_count": 32,
   "metadata": {
    "collapsed": false
   },
   "outputs": [
    {
     "data": {
      "text/plain": [
       "array([False, False,  True], dtype=bool)"
      ]
     },
     "execution_count": 32,
     "metadata": {},
     "output_type": "execute_result"
    }
   ],
   "source": [
    "rfc_result[0].predict(new_X_norm) == new_Y_norm"
   ]
  }
 ],
 "metadata": {
  "kernelspec": {
   "display_name": "Python 3",
   "language": "python",
   "name": "python3"
  },
  "language_info": {
   "codemirror_mode": {
    "name": "ipython",
    "version": 3
   },
   "file_extension": ".py",
   "mimetype": "text/x-python",
   "name": "python",
   "nbconvert_exporter": "python",
   "pygments_lexer": "ipython3",
   "version": "3.5.1"
  }
 },
 "nbformat": 4,
 "nbformat_minor": 0
}
