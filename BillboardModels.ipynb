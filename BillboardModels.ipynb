{
 "cells": [
  {
   "cell_type": "code",
   "execution_count": 1,
   "metadata": {
    "collapsed": false,
    "scrolled": true
   },
   "outputs": [],
   "source": [
    "import pandas as pd\n",
    "import numpy as np\n",
    "\n",
    "import matplotlib\n",
    "from matplotlib.colors import ListedColormap\n",
    "import seaborn as sns\n",
    "sns.set()\n",
    "# Save a nice dark grey as a variable\n",
    "almost_black = '#262626'\n",
    "\n",
    "import itertools\n",
    "from unbalanced_dataset import *\n",
    "from sklearn.decomposition import *\n",
    "from sklearn import preprocessing, tree, neighbors, cross_validation\n",
    "from sklearn.naive_bayes import GaussianNB\n",
    "from sklearn.svm import SVC, LinearSVC\n",
    "from sklearn.neighbors import KNeighborsClassifier\n",
    "from sklearn.tree import DecisionTreeClassifier\n",
    "from sklearn.ensemble import RandomForestClassifier, AdaBoostClassifier\n",
    "from sklearn.discriminant_analysis import LinearDiscriminantAnalysis\n",
    "from sklearn.discriminant_analysis import QuadraticDiscriminantAnalysis\n",
    "from sklearn.metrics import confusion_matrix, precision_recall_fscore_support\n",
    "from sklearn.metrics import classification_report, accuracy_score\n",
    "# from sklearn.preprocessing import label_binarize\n",
    "from sklearn.externals.six import StringIO\n",
    "\n",
    "from IPython.display import Image \n",
    "import pprint\n",
    "import pydot \n",
    "import matplotlib.pyplot as plt\n",
    "%matplotlib inline\n",
    "\n",
    "from time import time"
   ]
  },
  {
   "cell_type": "markdown",
   "metadata": {},
   "source": [
    "# Data Preparation and Setup\n",
    "## Import the data and declare the properties"
   ]
  },
  {
   "cell_type": "code",
   "execution_count": 2,
   "metadata": {
    "collapsed": false
   },
   "outputs": [],
   "source": [
    "filepath = 'data/full_data_genre.csv'\n",
    "\n",
    "header = None\n",
    "header_included = True\n",
    "if header_included:\n",
    "    header = 0\n",
    "\n",
    "# different sets of features\n",
    "genres = ['country', 'dance', 'hip_hop', 'pop', 'r&b', 'rock', 'alternative']\n",
    "accoustic = ['key', 'energy', 'liveness', 'tempo',\n",
    "             'speechiness', 'acousticness', 'instrumentalness',\n",
    "             'danceability', 'time_signature', 'loudness', 'duration', 'mode']\n",
    "artist = ['artist_familiarity', 'artist_hottness']\n",
    "# feature properties, 0: numerical, 1: categorical\n",
    "genres_types = [1,1,1,1,1,1,1]\n",
    "accoustic_types = [1, 0, 0, 0, 0, 0, 0, 0, 0, 0, 0, 1]\n",
    "artist_types = [0, 0]\n",
    "\n",
    "# features used in prediction\n",
    "feature_names = accoustic + genres + artist\n",
    "feature_num = len(feature_names)\n",
    "feature_types = accoustic_types + genres_types + artist_types \n",
    "\n",
    "# predict if the song is in billboard or not\n",
    "pred_name = 'billboard'\n",
    "# the percentage of entire dataset using for test dataset\n",
    "test_percent = 0.3 \n",
    "\n",
    "df = pd.read_csv(filepath, header = header)\n",
    "df['billboard'] = df['weeks'].map(lambda x: x != 0)\n",
    "\n",
    "raw_X = np.array(df[feature_names])\n",
    "raw_Y = np.array(df[pred_name].map(lambda x: int(x)).tolist())\n",
    "\n",
    "target_names_bool = list(set(raw_Y.tolist()))"
   ]
  },
  {
   "cell_type": "markdown",
   "metadata": {},
   "source": [
    "## Another test dataset that is not included in original dataset"
   ]
  },
  {
   "cell_type": "code",
   "execution_count": 3,
   "metadata": {
    "collapsed": false
   },
   "outputs": [],
   "source": [
    "new = pd.read_csv('data/new_song.csv', header = header)\n",
    "new_raw_X = np.array(new[feature_names])\n",
    "new_raw_Y = np.array(new[pred_name].map(lambda x: int(x)).tolist())"
   ]
  },
  {
   "cell_type": "markdown",
   "metadata": {},
   "source": [
    "## Classification report options"
   ]
  },
  {
   "cell_type": "code",
   "execution_count": 4,
   "metadata": {
    "collapsed": false
   },
   "outputs": [],
   "source": [
    "class Options(object):\n",
    "    pass\n",
    "\n",
    "opts = Options()\n",
    "\n",
    "opts.DTree = False\n",
    "# opts.lsvc = False\n",
    "\n",
    "# Save decision tree to pdf\n",
    "opts.save_DTree = False\n",
    "\n",
    "# Print a detailed classification report.\n",
    "opts.print_report = True\n",
    "# Select some number of features using a chi-squared test\n",
    "opts.select_chi2 = 3\n",
    "# Print the confusion matrix.\n",
    "opts.print_cm = False\n",
    "# Print normalized confusion matrix.\n",
    "opts.print_norm_cm = True"
   ]
  },
  {
   "cell_type": "markdown",
   "metadata": {},
   "source": [
    "## Other functions and class"
   ]
  },
  {
   "cell_type": "code",
   "execution_count": 5,
   "metadata": {
    "collapsed": true
   },
   "outputs": [],
   "source": [
    "def plot_confusion_matrix(cm, title='Confusion matrix', cmap=plt.cm.Blues):\n",
    "    \n",
    "    plt.figure(figsize=(5, 5))\n",
    " \n",
    "    plt.imshow(cm, interpolation='nearest', cmap=cmap)\n",
    "    plt.title(title)\n",
    "    plt.colorbar()\n",
    "    tick_marks = np.arange(len(target_names))\n",
    "    plt.xticks(tick_marks, target_names, rotation=45)\n",
    "    plt.yticks(tick_marks, target_names)\n",
    "    plt.tight_layout()\n",
    "    plt.ylabel('True label')\n",
    "    plt.xlabel('Predicted label')\n",
    "    \n",
    "    plt.show()"
   ]
  },
  {
   "cell_type": "code",
   "execution_count": 6,
   "metadata": {
    "collapsed": false
   },
   "outputs": [],
   "source": [
    "class pilot:\n",
    "    def __init__(self, x, y, dataset_split_random_state = None):\n",
    "        self.X_train, self.X_test, self.Y_train, self.Y_test = \\\n",
    "        cross_validation.train_test_split(x, y, \\\n",
    "                                          random_state \\\n",
    "                                          = dataset_split_random_state)\n",
    "    \n",
    "    def get_dataset(self):\n",
    "        return self.X_train, self.X_test, self.Y_train, self.Y_test\n",
    "    \n",
    "    def benchmark(self,clf):\n",
    "        t0 = time()\n",
    "        clf = clf.fit(self.X_train, self.Y_train)\n",
    "        train_time = time() - t0\n",
    "\n",
    "        t0 = time()\n",
    "        Y_predict = clf.predict(self.X_test)\n",
    "        test_time = time() - t0\n",
    "\n",
    "        score = accuracy_score(self.Y_test, Y_predict)\n",
    "        cm = confusion_matrix(self.Y_test, Y_predict)\n",
    "        report = classification_report(self.Y_test,Y_predict,\n",
    "                                       target_names = target_names)\n",
    "        \n",
    "        print('_' * 80)\n",
    "        print(\"Training: \")\n",
    "        print(clf)\n",
    "        print()\n",
    "        print(\"train time: %0.3fs\" % train_time)\n",
    "        print(\"test time:  %0.3fs\" % test_time)\n",
    "        print(\"accuracy:   %0.3f\" % score)\n",
    "        print()\n",
    "        if opts.print_report:\n",
    "            print(\"Classification report:\")\n",
    "            print(report)\n",
    "\n",
    "        if opts.print_cm:\n",
    "            plot_confusion_matrix(cm)\n",
    "\n",
    "        if opts.print_norm_cm:\n",
    "            cm_normalized = cm.astype('float') / cm.sum(axis=1)[:, np.newaxis]\n",
    "            plot_confusion_matrix(cm_normalized, \n",
    "                                  title='Normalized confusion matrix')\n",
    "\n",
    "        if opts.DTree and opts.save_DTree:\n",
    "            opts.DTree = False\n",
    "            # save dot file\n",
    "            with open(\"data/DTree.dot\", 'w') as f:\n",
    "                f = tree.export_graphviz(clf, out_file=f)\n",
    "            # save to pdf\n",
    "            dot_data = StringIO() \n",
    "            tree.export_graphviz(clf, out_file=dot_data,  \n",
    "                                 feature_names=feature_names,  \n",
    "                                 class_names=target_names,  \n",
    "                                 filled=True)  \n",
    "            graph = pydot.graph_from_dot_data(dot_data.getvalue())  \n",
    "            graph.write_pdf(\"data/DTree.pdf\")\n",
    "            \n",
    "        return clf, score, report, train_time, test_time\n",
    "    \n",
    "    def DTree(self, **params): # **params set parameters for classifier\n",
    "        \n",
    "        clf = tree.DecisionTreeClassifier()\n",
    "\n",
    "        default_params = clf.get_params(deep=True)\n",
    "        if params!= {}:\n",
    "            for key in params:\n",
    "                if key in default_params:\n",
    "                    default_params[key] = params[key]\n",
    "\n",
    "            clf.set_params(class_weight = default_params['class_weight'], \n",
    "                           criterion = default_params['criterion'], \n",
    "                           max_depth = default_params['max_depth'], \n",
    "                           max_leaf_nodes = default_params['max_leaf_nodes'], \n",
    "                           min_samples_leaf = default_params['min_samples_leaf'], \n",
    "                           min_weight_fraction_leaf \\\n",
    "                           = default_params['min_weight_fraction_leaf'],\n",
    "                           presort = default_params['presort'], \n",
    "                           random_state = default_params['random_state'],\n",
    "                           splitter = default_params['splitter'])\n",
    "        \n",
    "        opts.DTree = True\n",
    "        return self.benchmark(clf)\n",
    "    \n",
    "    \n",
    "    def KNN(self, **params): # **params set parameters for classifier\n",
    "        clf = neighbors.KNeighborsClassifier()\n",
    "        default_params = clf.get_params(deep=True)\n",
    "        if params!= {}:\n",
    "            for key in params:\n",
    "                if key in default_params:\n",
    "                    default_params[key] = params[key]\n",
    "                    \n",
    "        clf.set_params(algorithm = default_params['algorithm'], \n",
    "                       leaf_size = default_params['leaf_size'], \n",
    "                       metric = default_params['metric'],\n",
    "                       metric_params = default_params['metric_params'], \n",
    "                       n_jobs=default_params['n_jobs'],\n",
    "                       n_neighbors = default_params['n_neighbors'],\n",
    "                       p = default_params['p'],\n",
    "                       weights = default_params['weights'])\n",
    "        \n",
    "        return self.benchmark(clf)\n",
    "    \n",
    "    def GaussianNaiveBayes(self):\n",
    "        gnb = GaussianNB()\n",
    "        return self.benchmark(gnb)\n",
    "    \n",
    "    def linearSVC(self, **params):\n",
    "        lsvc = LinearSVC()\n",
    "        default_params = lsvc.get_params(deep=True)\n",
    "        if params!= {}:\n",
    "            for key in params:\n",
    "                if key in default_params:\n",
    "                    default_params[key] = params[key]\n",
    "                    \n",
    "        lsvc.set_params(penalty = default_params['penalty'], \n",
    "                        loss = default_params['loss'], \n",
    "                        dual = default_params['dual'],\n",
    "                        tol = default_params['tol'], \n",
    "                        C=default_params['C'], \n",
    "                        multi_class = default_params['multi_class'],\n",
    "                        fit_intercept = default_params['fit_intercept'],\n",
    "                        intercept_scaling = default_params['intercept_scaling'],\n",
    "                        class_weight = default_params['class_weight'],\n",
    "                        verbose = default_params['verbose'],\n",
    "                        random_state = default_params['random_state'],\n",
    "                        max_iter = default_params['max_iter'])\n",
    "    \n",
    "        return self.benchmark(lsvc)\n",
    "    \n",
    "    def RandomForest(self, **params):\n",
    "        rfc = RandomForestClassifier()\n",
    "        return self.benchmark(rfc)    "
   ]
  },
  {
   "cell_type": "markdown",
   "metadata": {},
   "source": [
    "## Data normalization:\n",
    "     - numerical data: normalize to range [0, 1]\n",
    "     - categorical data: label with 0 to k-1"
   ]
  },
  {
   "cell_type": "code",
   "execution_count": 7,
   "metadata": {
    "collapsed": false
   },
   "outputs": [],
   "source": [
    "def data_norm(x, y, fnames, ftypes, tnames):\n",
    "    new_x = np.array(x)\n",
    "\n",
    "    fnum = len(fnames)\n",
    "    numerical_features = [fnames[i] for i in range(fnum) if ftypes[i] == 0]\n",
    "    categorical_features = [fnames[i] for i in range(fnum) if ftypes[i] == 1]\n",
    "\n",
    "    le = preprocessing.LabelEncoder()\n",
    "\n",
    "    for i in range(fnum):\n",
    "        if ftypes[i] == 0:\n",
    "            new_x[:, i] = preprocessing.minmax_scale(x[:, i],\n",
    "                                                     feature_range=(-1, 1),\n",
    "                                                     axis=0, copy=True)\n",
    "        elif ftypes[i] == 1:\n",
    "            le.fit(list(set(x[:, i])))\n",
    "            new_x[:, i] = le.transform(x[:, i]) \n",
    "\n",
    "    le.fit(tnames)\n",
    "    new_y = le.transform(y)\n",
    "    new_tnames = list(map(str,tnames))\n",
    "    \n",
    "    return new_x, new_y, new_tnames"
   ]
  },
  {
   "cell_type": "markdown",
   "metadata": {},
   "source": [
    "## Data distribution"
   ]
  },
  {
   "cell_type": "code",
   "execution_count": 8,
   "metadata": {
    "collapsed": false
   },
   "outputs": [
    {
     "data": {
      "image/png": "[encoded data removed]",
      "text/plain": [
       "<matplotlib.figure.Figure at 0x244811f58d0>"
      ]
     },
     "metadata": {},
     "output_type": "display_data"
    }
   ],
   "source": [
    "# Instanciate a PCA object for the sake of easy visualisation\n",
    "pca = PCA(n_components = 2)\n",
    "\n",
    "# Fit and transform x to visualise inside a 2D feature space\n",
    "x_vis = pca.fit_transform(raw_X)\n",
    "                          \n",
    "# Plot the original data\n",
    "# Plot the two classes\n",
    "palette = sns.color_palette()\n",
    "plt.scatter(x_vis[raw_Y==0, 0], x_vis[raw_Y==0, 1], label=\"Class #0\", alpha=0.5, \n",
    "            edgecolor=almost_black, facecolor=palette[0], linewidth=0.15)\n",
    "plt.scatter(x_vis[raw_Y==1, 0], x_vis[raw_Y==1, 1], label=\"Class #1\", alpha=0.5, \n",
    "            edgecolor=almost_black, facecolor=palette[2], linewidth=0.15)\n",
    "\n",
    "plt.legend()\n",
    "plt.show()"
   ]
  },
  {
   "cell_type": "markdown",
   "metadata": {},
   "source": [
    "**Imbalanced dataset**"
   ]
  },
  {
   "cell_type": "code",
   "execution_count": 9,
   "metadata": {
    "collapsed": false
   },
   "outputs": [],
   "source": [
    "X_norm, Y_norm, target_names = \\\n",
    "data_norm(x=raw_X, y=raw_Y, \n",
    "          fnames=feature_names, \n",
    "          ftypes=feature_types, \n",
    "          tnames=target_names_bool)"
   ]
  },
  {
   "cell_type": "code",
   "execution_count": 10,
   "metadata": {
    "collapsed": true
   },
   "outputs": [],
   "source": [
    "new_X_norm, new_Y_norm, target_names = \\\n",
    "data_norm(x=new_raw_X, \n",
    "          y=new_raw_Y,\n",
    "          fnames=feature_names, \n",
    "          ftypes=feature_types, \n",
    "          tnames=target_names_bool)"
   ]
  },
  {
   "cell_type": "markdown",
   "metadata": {},
   "source": [
    "## Training models and results"
   ]
  },
  {
   "cell_type": "code",
   "execution_count": 11,
   "metadata": {
    "collapsed": false
   },
   "outputs": [],
   "source": [
    "example = pilot(X_norm,Y_norm)"
   ]
  },
  {
   "cell_type": "code",
   "execution_count": 12,
   "metadata": {
    "collapsed": false,
    "scrolled": false
   },
   "outputs": [
    {
     "name": "stdout",
     "output_type": "stream",
     "text": [
      "________________________________________________________________________________\n",
      "Training: \n",
      "DecisionTreeClassifier(class_weight=None, criterion='gini', max_depth=None,\n",
      "            max_features=None, max_leaf_nodes=None, min_samples_leaf=25,\n",
      "            min_samples_split=2, min_weight_fraction_leaf=0.0,\n",
      "            presort=False, random_state=None, splitter='best')\n",
      "\n",
      "train time: 0.437s\n",
      "test time:  0.002s\n",
      "accuracy:   0.945\n",
      "\n",
      "Classification report:\n",
      "             precision    recall  f1-score   support\n",
      "\n",
      "          0       0.95      0.99      0.97      6152\n",
      "          1       0.93      0.72      0.81      1222\n",
      "\n",
      "avg / total       0.94      0.94      0.94      7374\n",
      "\n"
     ]
    },
    {
     "data": {
      "image/png": "[encoded data removed]",
      "text/plain": [
       "<matplotlib.figure.Figure at 0x244fb299978>"
      ]
     },
     "metadata": {},
     "output_type": "display_data"
    }
   ],
   "source": [
    "tree_result = example.DTree(min_samples_leaf = 25)"
   ]
  },
  {
   "cell_type": "code",
   "execution_count": 13,
   "metadata": {
    "collapsed": false
   },
   "outputs": [
    {
     "name": "stdout",
     "output_type": "stream",
     "text": [
      "prediction: [0 0 1]\n",
      "prediction prob: [[ 0.52777778  0.47222222]\n",
      " [ 0.77777778  0.22222222]\n",
      " [ 0.          1.        ]]\n"
     ]
    }
   ],
   "source": [
    "print('prediction:', tree_result[0].predict(new_X_norm))\n",
    "print('prediction prob:', tree_result[0].predict_proba(new_X_norm,\n",
    "                                                       check_input=True))"
   ]
  },
  {
   "cell_type": "code",
   "execution_count": 14,
   "metadata": {
    "collapsed": false
   },
   "outputs": [
    {
     "name": "stdout",
     "output_type": "stream",
     "text": [
      "________________________________________________________________________________\n",
      "Training: \n",
      "KNeighborsClassifier(algorithm='auto', leaf_size=30, metric='minkowski',\n",
      "           metric_params=None, n_jobs=1, n_neighbors=7, p=2,\n",
      "           weights='uniform')\n",
      "\n",
      "train time: 0.158s\n",
      "test time:  2.703s\n",
      "accuracy:   0.876\n",
      "\n",
      "Classification report:\n",
      "             precision    recall  f1-score   support\n",
      "\n",
      "          0       0.88      0.98      0.93      6152\n",
      "          1       0.79      0.34      0.48      1222\n",
      "\n",
      "avg / total       0.87      0.88      0.86      7374\n",
      "\n"
     ]
    },
    {
     "data": {
      "image/png": "[encoded data removed]",
      "text/plain": [
       "<matplotlib.figure.Figure at 0x24481227080>"
      ]
     },
     "metadata": {},
     "output_type": "display_data"
    }
   ],
   "source": [
    "knn_result = example.KNN(n_neighbors = 7)"
   ]
  },
  {
   "cell_type": "code",
   "execution_count": 15,
   "metadata": {
    "collapsed": false
   },
   "outputs": [
    {
     "name": "stdout",
     "output_type": "stream",
     "text": [
      "prediction: [0 0 0]\n",
      "prediction prob: [[ 0.71428571  0.28571429]\n",
      " [ 1.          0.        ]\n",
      " [ 0.85714286  0.14285714]]\n"
     ]
    }
   ],
   "source": [
    "print('prediction:', knn_result[0].predict(new_X_norm))\n",
    "print('prediction prob:', knn_result[0].predict_proba(new_X_norm))"
   ]
  },
  {
   "cell_type": "code",
   "execution_count": 16,
   "metadata": {
    "collapsed": false,
    "scrolled": false
   },
   "outputs": [
    {
     "name": "stdout",
     "output_type": "stream",
     "text": [
      "________________________________________________________________________________\n",
      "Training: \n",
      "GaussianNB()\n",
      "\n",
      "train time: 0.026s\n",
      "test time:  0.020s\n",
      "accuracy:   0.709\n",
      "\n",
      "Classification report:\n",
      "             precision    recall  f1-score   support\n",
      "\n",
      "          0       0.91      0.73      0.81      6152\n",
      "          1       0.31      0.62      0.41      1222\n",
      "\n",
      "avg / total       0.81      0.71      0.74      7374\n",
      "\n"
     ]
    },
    {
     "data": {
      "image/png": "[encoded data removed]",
      "text/plain": [
       "<matplotlib.figure.Figure at 0x24481a25710>"
      ]
     },
     "metadata": {},
     "output_type": "display_data"
    }
   ],
   "source": [
    "gnb_result = example.GaussianNaiveBayes()"
   ]
  },
  {
   "cell_type": "code",
   "execution_count": 17,
   "metadata": {
    "collapsed": false
   },
   "outputs": [
    {
     "name": "stdout",
     "output_type": "stream",
     "text": [
      "prediction: [0 0 0]\n",
      "prediction prob: [[  1.00000000e+00   1.44094326e-81]\n",
      " [  1.00000000e+00   0.00000000e+00]\n",
      " [  9.99999991e-01   9.15952722e-09]]\n"
     ]
    }
   ],
   "source": [
    "print('prediction:', gnb_result[0].predict(new_X_norm))\n",
    "try: print('prediction prob:', gnb_result[0].predict_proba(new_X_norm))\n",
    "except: pass"
   ]
  },
  {
   "cell_type": "code",
   "execution_count": 18,
   "metadata": {
    "collapsed": false
   },
   "outputs": [
    {
     "name": "stdout",
     "output_type": "stream",
     "text": [
      "________________________________________________________________________________\n",
      "Training: \n",
      "LinearSVC(C=1.0, class_weight=None, dual=True, fit_intercept=True,\n",
      "     intercept_scaling=1, loss='squared_hinge', max_iter=1000,\n",
      "     multi_class='ovr', penalty='l2', random_state=None, tol=0.0001,\n",
      "     verbose=0)\n",
      "\n",
      "train time: 4.451s\n",
      "test time:  0.001s\n",
      "accuracy:   0.868\n",
      "\n",
      "Classification report:\n",
      "             precision    recall  f1-score   support\n",
      "\n",
      "          0       0.87      0.99      0.93      6152\n",
      "          1       0.86      0.24      0.38      1222\n",
      "\n",
      "avg / total       0.87      0.87      0.84      7374\n",
      "\n"
     ]
    },
    {
     "data": {
      "image/png": "[encoded data removed]",
      "text/plain": [
       "<matplotlib.figure.Figure at 0x2448226de48>"
      ]
     },
     "metadata": {},
     "output_type": "display_data"
    }
   ],
   "source": [
    "lsvc_result = example.linearSVC()"
   ]
  },
  {
   "cell_type": "code",
   "execution_count": 19,
   "metadata": {
    "collapsed": false
   },
   "outputs": [
    {
     "name": "stdout",
     "output_type": "stream",
     "text": [
      "prediction: [0 0 1]\n"
     ]
    }
   ],
   "source": [
    "print('prediction:', lsvc_result[0].predict(new_X_norm))\n",
    "try:\n",
    "    print('prediction prob:', lsvc_result[0].predict_proba(new_X_norm))\n",
    "except: pass"
   ]
  },
  {
   "cell_type": "code",
   "execution_count": 20,
   "metadata": {
    "collapsed": false
   },
   "outputs": [
    {
     "name": "stdout",
     "output_type": "stream",
     "text": [
      "________________________________________________________________________________\n",
      "Training: \n",
      "LinearSVC(C=1.0, class_weight='balanced', dual=True, fit_intercept=True,\n",
      "     intercept_scaling=1, loss='squared_hinge', max_iter=1000,\n",
      "     multi_class='ovr', penalty='l2', random_state=None, tol=0.0001,\n",
      "     verbose=0)\n",
      "\n",
      "train time: 5.971s\n",
      "test time:  0.001s\n",
      "accuracy:   0.735\n",
      "\n",
      "Classification report:\n",
      "             precision    recall  f1-score   support\n",
      "\n",
      "          0       0.93      0.74      0.82      6152\n",
      "          1       0.35      0.73      0.48      1222\n",
      "\n",
      "avg / total       0.84      0.73      0.77      7374\n",
      "\n"
     ]
    },
    {
     "data": {
      "image/png": "[encoded data removed]",
      "text/plain": [
       "<matplotlib.figure.Figure at 0x244821d8198>"
      ]
     },
     "metadata": {},
     "output_type": "display_data"
    }
   ],
   "source": [
    "lsvc_result2 = example.linearSVC(class_weight='balanced')"
   ]
  },
  {
   "cell_type": "code",
   "execution_count": 21,
   "metadata": {
    "collapsed": false
   },
   "outputs": [
    {
     "name": "stdout",
     "output_type": "stream",
     "text": [
      "prediction: [0 0 1]\n"
     ]
    }
   ],
   "source": [
    "print('prediction:', lsvc_result2[0].predict(new_X_norm))\n",
    "try:\n",
    "    print('prediction prob:', lsvc_result2[0].predict_proba(new_X_norm))\n",
    "except: pass"
   ]
  },
  {
   "cell_type": "code",
   "execution_count": 22,
   "metadata": {
    "collapsed": false,
    "scrolled": false
   },
   "outputs": [
    {
     "name": "stdout",
     "output_type": "stream",
     "text": [
      "________________________________________________________________________________\n",
      "Training: \n",
      "LinearSVC(C=1.0, class_weight='balanced', dual=False, fit_intercept=True,\n",
      "     intercept_scaling=1, loss='squared_hinge', max_iter=1000,\n",
      "     multi_class='ovr', penalty='l1', random_state=None, tol=0.0001,\n",
      "     verbose=0)\n",
      "\n",
      "train time: 2.811s\n",
      "test time:  0.001s\n",
      "accuracy:   0.731\n",
      "\n",
      "Classification report:\n",
      "             precision    recall  f1-score   support\n",
      "\n",
      "          0       0.93      0.73      0.82      6152\n",
      "          1       0.35      0.72      0.47      1222\n",
      "\n",
      "avg / total       0.83      0.73      0.76      7374\n",
      "\n"
     ]
    },
    {
     "data": {
      "image/png": "[encoded data removed]",
      "text/plain": [
       "<matplotlib.figure.Figure at 0x244822278d0>"
      ]
     },
     "metadata": {},
     "output_type": "display_data"
    }
   ],
   "source": [
    "lsvc_result3 = example.linearSVC(class_weight='balanced', \n",
    "                                 penalty ='l1', dual = False)"
   ]
  },
  {
   "cell_type": "code",
   "execution_count": 23,
   "metadata": {
    "collapsed": false
   },
   "outputs": [
    {
     "name": "stdout",
     "output_type": "stream",
     "text": [
      "prediction: [0 0 1]\n"
     ]
    }
   ],
   "source": [
    "print('prediction:', lsvc_result3[0].predict(new_X_norm))\n",
    "try: print('prediction prob:', lsvc_result3[0].predict_proba(new_X_norm))\n",
    "except: pass"
   ]
  },
  {
   "cell_type": "code",
   "execution_count": 24,
   "metadata": {
    "collapsed": false,
    "scrolled": true
   },
   "outputs": [
    {
     "name": "stdout",
     "output_type": "stream",
     "text": [
      "________________________________________________________________________________\n",
      "Training: \n",
      "RandomForestClassifier(bootstrap=True, class_weight=None, criterion='gini',\n",
      "            max_depth=None, max_features='auto', max_leaf_nodes=None,\n",
      "            min_samples_leaf=1, min_samples_split=2,\n",
      "            min_weight_fraction_leaf=0.0, n_estimators=10, n_jobs=1,\n",
      "            oob_score=False, random_state=None, verbose=0,\n",
      "            warm_start=False)\n",
      "\n",
      "train time: 0.761s\n",
      "test time:  0.018s\n",
      "accuracy:   0.936\n",
      "\n",
      "Classification report:\n",
      "             precision    recall  f1-score   support\n",
      "\n",
      "          0       0.93      1.00      0.96      6152\n",
      "          1       0.97      0.63      0.77      1222\n",
      "\n",
      "avg / total       0.94      0.94      0.93      7374\n",
      "\n"
     ]
    },
    {
     "data": {
      "image/png": "[encoded data removed]",
      "text/plain": [
       "<matplotlib.figure.Figure at 0x2448233c588>"
      ]
     },
     "metadata": {},
     "output_type": "display_data"
    }
   ],
   "source": [
    "rfc_result = example.RandomForest()"
   ]
  },
  {
   "cell_type": "code",
   "execution_count": 25,
   "metadata": {
    "collapsed": false
   },
   "outputs": [
    {
     "name": "stdout",
     "output_type": "stream",
     "text": [
      "prediction: [1 0 1]\n",
      "prediction prob: [[ 0.4  0.6]\n",
      " [ 0.6  0.4]\n",
      " [ 0.2  0.8]]\n"
     ]
    }
   ],
   "source": [
    "print('prediction:', rfc_result[0].predict(new_X_norm))\n",
    "print('prediction prob:', rfc_result[0].predict_proba(new_X_norm))"
   ]
  },
  {
   "cell_type": "markdown",
   "metadata": {},
   "source": [
    "-------------------------------------------------------------------------------\n",
    "# Under-Sampling"
   ]
  },
  {
   "cell_type": "markdown",
   "metadata": {},
   "source": [
    "## Random UnderSampling"
   ]
  },
  {
   "cell_type": "code",
   "execution_count": 26,
   "metadata": {
    "collapsed": false
   },
   "outputs": [
    {
     "name": "stdout",
     "output_type": "stream",
     "text": [
      "Determining classes statistics... 2 classes detected: {0: 24756, 1: 4740}\n",
      "Under-sampling performed: Counter({0: 4740, 1: 4740})\n"
     ]
    }
   ],
   "source": [
    "sampler = UnderSampler(ratio = 1)\n",
    "X_under, Y_under = sampler.fit_transform(X_norm,Y_norm)"
   ]
  },
  {
   "cell_type": "code",
   "execution_count": 27,
   "metadata": {
    "collapsed": false
   },
   "outputs": [],
   "source": [
    "example = pilot(X_under,Y_under)"
   ]
  },
  {
   "cell_type": "code",
   "execution_count": 28,
   "metadata": {
    "collapsed": false,
    "scrolled": false
   },
   "outputs": [
    {
     "name": "stdout",
     "output_type": "stream",
     "text": [
      "________________________________________________________________________________\n",
      "Training: \n",
      "DecisionTreeClassifier(class_weight=None, criterion='gini', max_depth=None,\n",
      "            max_features=None, max_leaf_nodes=None, min_samples_leaf=25,\n",
      "            min_samples_split=2, min_weight_fraction_leaf=0.0,\n",
      "            presort=False, random_state=None, splitter='best')\n",
      "\n",
      "train time: 0.094s\n",
      "test time:  0.001s\n",
      "accuracy:   0.840\n",
      "\n",
      "Classification report:\n",
      "             precision    recall  f1-score   support\n",
      "\n",
      "          0       0.82      0.88      0.85      1202\n",
      "          1       0.87      0.79      0.83      1168\n",
      "\n",
      "avg / total       0.84      0.84      0.84      2370\n",
      "\n"
     ]
    },
    {
     "data": {
      "image/png": "[encoded data removed]",
      "text/plain": [
       "<matplotlib.figure.Figure at 0x2448241e668>"
      ]
     },
     "metadata": {},
     "output_type": "display_data"
    }
   ],
   "source": [
    "tree_result = example.DTree(min_samples_leaf = 25)"
   ]
  },
  {
   "cell_type": "code",
   "execution_count": 29,
   "metadata": {
    "collapsed": false
   },
   "outputs": [
    {
     "name": "stdout",
     "output_type": "stream",
     "text": [
      "prediction: [1 0 1]\n",
      "prediction prob: [[ 0.31818182  0.68181818]\n",
      " [ 0.52        0.48      ]\n",
      " [ 0.          1.        ]]\n"
     ]
    }
   ],
   "source": [
    "print('prediction:', tree_result[0].predict(new_X_norm))\n",
    "print('prediction prob:', tree_result[0].predict_proba(new_X_norm))"
   ]
  },
  {
   "cell_type": "code",
   "execution_count": 30,
   "metadata": {
    "collapsed": false,
    "scrolled": false
   },
   "outputs": [
    {
     "name": "stdout",
     "output_type": "stream",
     "text": [
      "________________________________________________________________________________\n",
      "Training: \n",
      "KNeighborsClassifier(algorithm='auto', leaf_size=30, metric='minkowski',\n",
      "           metric_params=None, n_jobs=1, n_neighbors=7, p=2,\n",
      "           weights='uniform')\n",
      "\n",
      "train time: 0.032s\n",
      "test time:  0.303s\n",
      "accuracy:   0.729\n",
      "\n",
      "Classification report:\n",
      "             precision    recall  f1-score   support\n",
      "\n",
      "          0       0.73      0.75      0.74      1202\n",
      "          1       0.73      0.71      0.72      1168\n",
      "\n",
      "avg / total       0.73      0.73      0.73      2370\n",
      "\n"
     ]
    },
    {
     "data": {
      "image/png": "[encoded data removed]",
      "text/plain": [
       "<matplotlib.figure.Figure at 0x244821ee3c8>"
      ]
     },
     "metadata": {},
     "output_type": "display_data"
    }
   ],
   "source": [
    "knn_result = example.KNN(n_neighbors = 7)"
   ]
  },
  {
   "cell_type": "code",
   "execution_count": 31,
   "metadata": {
    "collapsed": false
   },
   "outputs": [
    {
     "name": "stdout",
     "output_type": "stream",
     "text": [
      "prediction: [1 0 1]\n",
      "prediction prob: [[ 0.42857143  0.57142857]\n",
      " [ 0.85714286  0.14285714]\n",
      " [ 0.42857143  0.57142857]]\n"
     ]
    }
   ],
   "source": [
    "print('prediction:', knn_result[0].predict(new_X_norm))\n",
    "try: print('prediction prob:', knn_result[0].predict_proba(new_X_norm))\n",
    "except: pass"
   ]
  },
  {
   "cell_type": "code",
   "execution_count": 32,
   "metadata": {
    "collapsed": false
   },
   "outputs": [
    {
     "name": "stdout",
     "output_type": "stream",
     "text": [
      "________________________________________________________________________________\n",
      "Training: \n",
      "GaussianNB()\n",
      "\n",
      "train time: 0.012s\n",
      "test time:  0.003s\n",
      "accuracy:   0.673\n",
      "\n",
      "Classification report:\n",
      "             precision    recall  f1-score   support\n",
      "\n",
      "          0       0.73      0.57      0.64      1202\n",
      "          1       0.64      0.78      0.70      1168\n",
      "\n",
      "avg / total       0.68      0.67      0.67      2370\n",
      "\n"
     ]
    },
    {
     "data": {
      "image/png": "[encoded data removed]",
      "text/plain": [
       "<matplotlib.figure.Figure at 0x24481301b00>"
      ]
     },
     "metadata": {},
     "output_type": "display_data"
    }
   ],
   "source": [
    "gnb_result = example.GaussianNaiveBayes()"
   ]
  },
  {
   "cell_type": "code",
   "execution_count": 33,
   "metadata": {
    "collapsed": false
   },
   "outputs": [
    {
     "name": "stdout",
     "output_type": "stream",
     "text": [
      "prediction: [0 0 0]\n",
      "prediction prob: [[  1.00000000e+00   4.24905738e-74]\n",
      " [  1.00000000e+00   0.00000000e+00]\n",
      " [  9.92790144e-01   7.20985594e-03]]\n"
     ]
    }
   ],
   "source": [
    "print('prediction:', gnb_result[0].predict(new_X_norm))\n",
    "try: print('prediction prob:', gnb_result[0].predict_proba(new_X_norm))\n",
    "except: pass"
   ]
  },
  {
   "cell_type": "code",
   "execution_count": 34,
   "metadata": {
    "collapsed": false
   },
   "outputs": [
    {
     "name": "stdout",
     "output_type": "stream",
     "text": [
      "________________________________________________________________________________\n",
      "Training: \n",
      "LinearSVC(C=1.0, class_weight=None, dual=True, fit_intercept=True,\n",
      "     intercept_scaling=1, loss='squared_hinge', max_iter=1000,\n",
      "     multi_class='ovr', penalty='l2', random_state=None, tol=0.0001,\n",
      "     verbose=0)\n",
      "\n",
      "train time: 1.221s\n",
      "test time:  0.001s\n",
      "accuracy:   0.730\n",
      "\n",
      "Classification report:\n",
      "             precision    recall  f1-score   support\n",
      "\n",
      "          0       0.74      0.73      0.73      1202\n",
      "          1       0.72      0.73      0.73      1168\n",
      "\n",
      "avg / total       0.73      0.73      0.73      2370\n",
      "\n"
     ]
    },
    {
     "data": {
      "image/png": "[encoded data removed]",
      "text/plain": [
       "<matplotlib.figure.Figure at 0x24481244400>"
      ]
     },
     "metadata": {},
     "output_type": "display_data"
    }
   ],
   "source": [
    "lsvc_result = example.linearSVC()"
   ]
  },
  {
   "cell_type": "code",
   "execution_count": 35,
   "metadata": {
    "collapsed": false
   },
   "outputs": [
    {
     "name": "stdout",
     "output_type": "stream",
     "text": [
      "prediction: [0 0 1]\n"
     ]
    }
   ],
   "source": [
    "print('prediction:', lsvc_result[0].predict(new_X_norm))\n",
    "try: print('prediction prob:', lsvc_result[0].predict_proba(new_X_norm))\n",
    "except: pass"
   ]
  },
  {
   "cell_type": "code",
   "execution_count": 36,
   "metadata": {
    "collapsed": false
   },
   "outputs": [
    {
     "name": "stdout",
     "output_type": "stream",
     "text": [
      "________________________________________________________________________________\n",
      "Training: \n",
      "RandomForestClassifier(bootstrap=True, class_weight=None, criterion='gini',\n",
      "            max_depth=None, max_features='auto', max_leaf_nodes=None,\n",
      "            min_samples_leaf=1, min_samples_split=2,\n",
      "            min_weight_fraction_leaf=0.0, n_estimators=10, n_jobs=1,\n",
      "            oob_score=False, random_state=None, verbose=0,\n",
      "            warm_start=False)\n",
      "\n",
      "train time: 0.197s\n",
      "test time:  0.007s\n",
      "accuracy:   0.847\n",
      "\n",
      "Classification report:\n",
      "             precision    recall  f1-score   support\n",
      "\n",
      "          0       0.81      0.91      0.86      1202\n",
      "          1       0.89      0.79      0.84      1168\n",
      "\n",
      "avg / total       0.85      0.85      0.85      2370\n",
      "\n"
     ]
    },
    {
     "data": {
      "image/png": "[encoded data removed]",
      "text/plain": [
       "<matplotlib.figure.Figure at 0x244821e2668>"
      ]
     },
     "metadata": {},
     "output_type": "display_data"
    }
   ],
   "source": [
    "rfc_result = example.RandomForest()"
   ]
  },
  {
   "cell_type": "code",
   "execution_count": 37,
   "metadata": {
    "collapsed": false
   },
   "outputs": [
    {
     "name": "stdout",
     "output_type": "stream",
     "text": [
      "prediction: [1 0 0]\n",
      "prediction prob: [[ 0.2  0.8]\n",
      " [ 0.6  0.4]\n",
      " [ 0.5  0.5]]\n"
     ]
    }
   ],
   "source": [
    "print('prediction:', rfc_result[0].predict(new_X_norm))\n",
    "try: print('prediction prob:', rfc_result[0].predict_proba(new_X_norm))\n",
    "except: pass"
   ]
  },
  {
   "cell_type": "markdown",
   "metadata": {},
   "source": [
    "## NearMiss"
   ]
  },
  {
   "cell_type": "code",
   "execution_count": 38,
   "metadata": {
    "collapsed": false,
    "scrolled": true
   },
   "outputs": [
    {
     "name": "stdout",
     "output_type": "stream",
     "text": [
      "Determining classes statistics... 2 classes detected: {0: 24756, 1: 4740}\n",
      "Under-sampling performed: Counter({0: 4740, 1: 4740})\n"
     ]
    }
   ],
   "source": [
    "sampler = NearMiss()\n",
    "X_nm, Y_nm = sampler.fit_transform(X_norm,Y_norm)"
   ]
  },
  {
   "cell_type": "code",
   "execution_count": 39,
   "metadata": {
    "collapsed": false
   },
   "outputs": [],
   "source": [
    "example = pilot(X_nm,Y_nm)"
   ]
  },
  {
   "cell_type": "code",
   "execution_count": 40,
   "metadata": {
    "collapsed": false,
    "scrolled": true
   },
   "outputs": [
    {
     "name": "stdout",
     "output_type": "stream",
     "text": [
      "________________________________________________________________________________\n",
      "Training: \n",
      "DecisionTreeClassifier(class_weight=None, criterion='gini', max_depth=None,\n",
      "            max_features=None, max_leaf_nodes=None, min_samples_leaf=25,\n",
      "            min_samples_split=2, min_weight_fraction_leaf=0.0,\n",
      "            presort=False, random_state=None, splitter='best')\n",
      "\n",
      "train time: 0.101s\n",
      "test time:  0.001s\n",
      "accuracy:   0.845\n",
      "\n",
      "Classification report:\n",
      "             precision    recall  f1-score   support\n",
      "\n",
      "          0       0.81      0.89      0.85      1157\n",
      "          1       0.88      0.81      0.84      1213\n",
      "\n",
      "avg / total       0.85      0.85      0.85      2370\n",
      "\n"
     ]
    },
    {
     "data": {
      "image/png": "[encoded data removed]",
      "text/plain": [
       "<matplotlib.figure.Figure at 0x2448235cd30>"
      ]
     },
     "metadata": {},
     "output_type": "display_data"
    }
   ],
   "source": [
    "tree_result = example.DTree(min_samples_leaf = 25)"
   ]
  },
  {
   "cell_type": "code",
   "execution_count": 41,
   "metadata": {
    "collapsed": false
   },
   "outputs": [
    {
     "name": "stdout",
     "output_type": "stream",
     "text": [
      "prediction: [1 1 1]\n",
      "prediction prob: [[ 0.11428571  0.88571429]\n",
      " [ 0.44        0.56      ]\n",
      " [ 0.          1.        ]]\n"
     ]
    }
   ],
   "source": [
    "print('prediction:', tree_result[0].predict(new_X_norm))\n",
    "try:print('prediction prob:', tree_result[0].predict_proba(new_X_norm))\n",
    "except: pass"
   ]
  },
  {
   "cell_type": "code",
   "execution_count": 42,
   "metadata": {
    "collapsed": false,
    "scrolled": true
   },
   "outputs": [
    {
     "name": "stdout",
     "output_type": "stream",
     "text": [
      "________________________________________________________________________________\n",
      "Training: \n",
      "KNeighborsClassifier(algorithm='auto', leaf_size=30, metric='minkowski',\n",
      "           metric_params=None, n_jobs=1, n_neighbors=7, p=2,\n",
      "           weights='uniform')\n",
      "\n",
      "train time: 0.020s\n",
      "test time:  0.205s\n",
      "accuracy:   0.735\n",
      "\n",
      "Classification report:\n",
      "             precision    recall  f1-score   support\n",
      "\n",
      "          0       0.67      0.89      0.77      1157\n",
      "          1       0.85      0.58      0.69      1213\n",
      "\n",
      "avg / total       0.76      0.73      0.73      2370\n",
      "\n"
     ]
    },
    {
     "data": {
      "image/png": "[encoded data removed]",
      "text/plain": [
       "<matplotlib.figure.Figure at 0x244821f5a20>"
      ]
     },
     "metadata": {},
     "output_type": "display_data"
    }
   ],
   "source": [
    "knn_result = example.KNN(n_neighbors = 7)"
   ]
  },
  {
   "cell_type": "code",
   "execution_count": 43,
   "metadata": {
    "collapsed": false
   },
   "outputs": [
    {
     "name": "stdout",
     "output_type": "stream",
     "text": [
      "prediction: [1 1 1]\n",
      "prediction prob: [[ 0.28571429  0.71428571]\n",
      " [ 0.28571429  0.71428571]\n",
      " [ 0.          1.        ]]\n"
     ]
    }
   ],
   "source": [
    "print('prediction:', knn_result[0].predict(new_X_norm))\n",
    "try: print('prediction prob:', knn_result[0].predict_proba(new_X_norm))\n",
    "except: pass"
   ]
  },
  {
   "cell_type": "code",
   "execution_count": 44,
   "metadata": {
    "collapsed": false
   },
   "outputs": [
    {
     "name": "stdout",
     "output_type": "stream",
     "text": [
      "________________________________________________________________________________\n",
      "Training: \n",
      "GaussianNB()\n",
      "\n",
      "train time: 0.009s\n",
      "test time:  0.002s\n",
      "accuracy:   0.648\n",
      "\n",
      "Classification report:\n",
      "             precision    recall  f1-score   support\n",
      "\n",
      "          0       0.60      0.85      0.70      1157\n",
      "          1       0.76      0.46      0.57      1213\n",
      "\n",
      "avg / total       0.68      0.65      0.63      2370\n",
      "\n"
     ]
    },
    {
     "data": {
      "image/png": "[encoded data removed]",
      "text/plain": [
       "<matplotlib.figure.Figure at 0x24481244f60>"
      ]
     },
     "metadata": {},
     "output_type": "display_data"
    }
   ],
   "source": [
    "gnb_result = example.GaussianNaiveBayes()"
   ]
  },
  {
   "cell_type": "code",
   "execution_count": 45,
   "metadata": {
    "collapsed": false
   },
   "outputs": [
    {
     "name": "stdout",
     "output_type": "stream",
     "text": [
      "prediction: [1 0 1]\n",
      "prediction prob: [[  2.52295459e-32   1.00000000e+00]\n",
      " [  1.00000000e+00   7.23810797e-62]\n",
      " [  6.87273626e-75   1.00000000e+00]]\n"
     ]
    }
   ],
   "source": [
    "print('prediction:', gnb_result[0].predict(new_X_norm))\n",
    "try: print('prediction prob:', gnb_result[0].predict_proba(new_X_norm))\n",
    "except: pass"
   ]
  },
  {
   "cell_type": "code",
   "execution_count": 46,
   "metadata": {
    "collapsed": false
   },
   "outputs": [
    {
     "name": "stdout",
     "output_type": "stream",
     "text": [
      "________________________________________________________________________________\n",
      "Training: \n",
      "LinearSVC(C=1.0, class_weight=None, dual=True, fit_intercept=True,\n",
      "     intercept_scaling=1, loss='squared_hinge', max_iter=1000,\n",
      "     multi_class='ovr', penalty='l2', random_state=None, tol=0.0001,\n",
      "     verbose=0)\n",
      "\n",
      "train time: 1.187s\n",
      "test time:  0.001s\n",
      "accuracy:   0.732\n",
      "\n",
      "Classification report:\n",
      "             precision    recall  f1-score   support\n",
      "\n",
      "          0       0.70      0.78      0.74      1157\n",
      "          1       0.76      0.69      0.72      1213\n",
      "\n",
      "avg / total       0.73      0.73      0.73      2370\n",
      "\n"
     ]
    },
    {
     "data": {
      "image/png": "[encoded data removed]",
      "text/plain": [
       "<matplotlib.figure.Figure at 0x24481a469b0>"
      ]
     },
     "metadata": {},
     "output_type": "display_data"
    }
   ],
   "source": [
    "lsvc_result = example.linearSVC()"
   ]
  },
  {
   "cell_type": "code",
   "execution_count": 47,
   "metadata": {
    "collapsed": false
   },
   "outputs": [
    {
     "name": "stdout",
     "output_type": "stream",
     "text": [
      "prediction: [0 0 1]\n"
     ]
    }
   ],
   "source": [
    "print('prediction:', lsvc_result[0].predict(new_X_norm))\n",
    "try: print('prediction prob:', lsvc_result[0].predict_proba(new_X_norm))\n",
    "except: pass"
   ]
  },
  {
   "cell_type": "code",
   "execution_count": 48,
   "metadata": {
    "collapsed": false,
    "scrolled": false
   },
   "outputs": [
    {
     "name": "stdout",
     "output_type": "stream",
     "text": [
      "________________________________________________________________________________\n",
      "Training: \n",
      "RandomForestClassifier(bootstrap=True, class_weight=None, criterion='gini',\n",
      "            max_depth=None, max_features='auto', max_leaf_nodes=None,\n",
      "            min_samples_leaf=1, min_samples_split=2,\n",
      "            min_weight_fraction_leaf=0.0, n_estimators=10, n_jobs=1,\n",
      "            oob_score=False, random_state=None, verbose=0,\n",
      "            warm_start=False)\n",
      "\n",
      "train time: 0.212s\n",
      "test time:  0.007s\n",
      "accuracy:   0.849\n",
      "\n",
      "Classification report:\n",
      "             precision    recall  f1-score   support\n",
      "\n",
      "          0       0.81      0.90      0.85      1157\n",
      "          1       0.89      0.80      0.84      1213\n",
      "\n",
      "avg / total       0.85      0.85      0.85      2370\n",
      "\n"
     ]
    },
    {
     "data": {
      "image/png": "[encoded data removed]",
      "text/plain": [
       "<matplotlib.figure.Figure at 0x24482381908>"
      ]
     },
     "metadata": {},
     "output_type": "display_data"
    }
   ],
   "source": [
    "rfc_result = example.RandomForest()"
   ]
  },
  {
   "cell_type": "code",
   "execution_count": 49,
   "metadata": {
    "collapsed": false
   },
   "outputs": [
    {
     "name": "stdout",
     "output_type": "stream",
     "text": [
      "prediction: [1 1 1]\n",
      "prediction prob: [[ 0.3  0.7]\n",
      " [ 0.2  0.8]\n",
      " [ 0.1  0.9]]\n"
     ]
    }
   ],
   "source": [
    "print('prediction:', rfc_result[0].predict(new_X_norm))\n",
    "try: print('prediction prob:', rfc_result[0].predict_proba(new_X_norm))\n",
    "except: pass"
   ]
  },
  {
   "cell_type": "markdown",
   "metadata": {
    "collapsed": true
   },
   "source": [
    "----------------------------------------------------------------------------------------------\n",
    "# Over-Sampling"
   ]
  },
  {
   "cell_type": "markdown",
   "metadata": {},
   "source": [
    "## Random OverSampling"
   ]
  },
  {
   "cell_type": "code",
   "execution_count": 50,
   "metadata": {
    "collapsed": false
   },
   "outputs": [
    {
     "name": "stdout",
     "output_type": "stream",
     "text": [
      "Determining classes statistics... 2 classes detected: {0: 24756, 1: 4740}\n",
      "Over-sampling performed: Counter({0: 24756, 1: 23700})\n"
     ]
    }
   ],
   "source": [
    "sampler = OverSampler(ratio = 4)\n",
    "X_os, Y_os = sampler.fit_transform(X_norm,Y_norm)"
   ]
  },
  {
   "cell_type": "code",
   "execution_count": 51,
   "metadata": {
    "collapsed": true
   },
   "outputs": [],
   "source": [
    "example = pilot(X_os,Y_os)"
   ]
  },
  {
   "cell_type": "code",
   "execution_count": 52,
   "metadata": {
    "collapsed": false
   },
   "outputs": [
    {
     "name": "stdout",
     "output_type": "stream",
     "text": [
      "________________________________________________________________________________\n",
      "Training: \n",
      "DecisionTreeClassifier(class_weight=None, criterion='gini', max_depth=None,\n",
      "            max_features=None, max_leaf_nodes=None, min_samples_leaf=25,\n",
      "            min_samples_split=2, min_weight_fraction_leaf=0.0,\n",
      "            presort=False, random_state=None, splitter='best')\n",
      "\n",
      "train time: 0.578s\n",
      "test time:  0.003s\n",
      "accuracy:   0.913\n",
      "\n",
      "Classification report:\n",
      "             precision    recall  f1-score   support\n",
      "\n",
      "          0       0.91      0.93      0.92      6295\n",
      "          1       0.92      0.90      0.91      5819\n",
      "\n",
      "avg / total       0.91      0.91      0.91     12114\n",
      "\n"
     ]
    },
    {
     "data": {
      "image/png": "[encoded data removed]",
      "text/plain": [
       "<matplotlib.figure.Figure at 0x244824094a8>"
      ]
     },
     "metadata": {},
     "output_type": "display_data"
    }
   ],
   "source": [
    "tree_result = example.DTree(min_samples_leaf = 25)"
   ]
  },
  {
   "cell_type": "code",
   "execution_count": 53,
   "metadata": {
    "collapsed": false
   },
   "outputs": [
    {
     "name": "stdout",
     "output_type": "stream",
     "text": [
      "prediction: [1 0 1]\n",
      "prediction prob: [[ 0.36  0.64]\n",
      " [ 1.    0.  ]\n",
      " [ 0.    1.  ]]\n"
     ]
    }
   ],
   "source": [
    "print('prediction:', tree_result[0].predict(new_X_norm))\n",
    "try: print('prediction prob:', tree_result[0].predict_proba(new_X_norm))\n",
    "except: pass"
   ]
  },
  {
   "cell_type": "code",
   "execution_count": 54,
   "metadata": {
    "collapsed": false
   },
   "outputs": [
    {
     "name": "stdout",
     "output_type": "stream",
     "text": [
      "________________________________________________________________________________\n",
      "Training: \n",
      "KNeighborsClassifier(algorithm='auto', leaf_size=30, metric='minkowski',\n",
      "           metric_params=None, n_jobs=1, n_neighbors=7, p=2,\n",
      "           weights='uniform')\n",
      "\n",
      "train time: 0.308s\n",
      "test time:  7.791s\n",
      "accuracy:   0.828\n",
      "\n",
      "Classification report:\n",
      "             precision    recall  f1-score   support\n",
      "\n",
      "          0       0.87      0.79      0.83      6295\n",
      "          1       0.79      0.87      0.83      5819\n",
      "\n",
      "avg / total       0.83      0.83      0.83     12114\n",
      "\n"
     ]
    },
    {
     "data": {
      "image/png": "[encoded data removed]",
      "text/plain": [
       "<matplotlib.figure.Figure at 0x244823f77b8>"
      ]
     },
     "metadata": {},
     "output_type": "display_data"
    }
   ],
   "source": [
    "knn_result = example.KNN(n_neighbors = 7)"
   ]
  },
  {
   "cell_type": "code",
   "execution_count": 55,
   "metadata": {
    "collapsed": false
   },
   "outputs": [
    {
     "name": "stdout",
     "output_type": "stream",
     "text": [
      "prediction: [1 0 0]\n",
      "prediction prob: [[ 0.42857143  0.57142857]\n",
      " [ 1.          0.        ]\n",
      " [ 0.57142857  0.42857143]]\n"
     ]
    }
   ],
   "source": [
    "print('prediction:', knn_result[0].predict(new_X_norm))\n",
    "try:print('prediction prob:', knn_result[0].predict_proba(new_X_norm))\n",
    "except: pass"
   ]
  },
  {
   "cell_type": "code",
   "execution_count": 56,
   "metadata": {
    "collapsed": false
   },
   "outputs": [
    {
     "name": "stdout",
     "output_type": "stream",
     "text": [
      "________________________________________________________________________________\n",
      "Training: \n",
      "GaussianNB()\n",
      "\n",
      "train time: 0.051s\n",
      "test time:  0.014s\n",
      "accuracy:   0.675\n",
      "\n",
      "Classification report:\n",
      "             precision    recall  f1-score   support\n",
      "\n",
      "          0       0.75      0.56      0.64      6295\n",
      "          1       0.63      0.80      0.70      5819\n",
      "\n",
      "avg / total       0.69      0.67      0.67     12114\n",
      "\n"
     ]
    },
    {
     "data": {
      "image/png": "[encoded data removed]",
      "text/plain": [
       "<matplotlib.figure.Figure at 0x24482337748>"
      ]
     },
     "metadata": {},
     "output_type": "display_data"
    }
   ],
   "source": [
    "gnb_result = example.GaussianNaiveBayes()"
   ]
  },
  {
   "cell_type": "code",
   "execution_count": 57,
   "metadata": {
    "collapsed": false
   },
   "outputs": [
    {
     "name": "stdout",
     "output_type": "stream",
     "text": [
      "prediction: [0 0 0]\n",
      "prediction prob: [[  1.00000000e+00   2.10437193e-86]\n",
      " [  1.00000000e+00   0.00000000e+00]\n",
      " [  9.99999998e-01   2.40820383e-09]]\n"
     ]
    }
   ],
   "source": [
    "print('prediction:', gnb_result[0].predict(new_X_norm))\n",
    "try:print('prediction prob:', gnb_result[0].predict_proba(new_X_norm))\n",
    "except: pass"
   ]
  },
  {
   "cell_type": "code",
   "execution_count": 58,
   "metadata": {
    "collapsed": false,
    "scrolled": false
   },
   "outputs": [
    {
     "name": "stdout",
     "output_type": "stream",
     "text": [
      "________________________________________________________________________________\n",
      "Training: \n",
      "LinearSVC(C=1.0, class_weight=None, dual=True, fit_intercept=True,\n",
      "     intercept_scaling=1, loss='squared_hinge', max_iter=1000,\n",
      "     multi_class='ovr', penalty='l2', random_state=None, tol=0.0001,\n",
      "     verbose=0)\n",
      "\n",
      "train time: 11.498s\n",
      "test time:  0.002s\n",
      "accuracy:   0.732\n",
      "\n",
      "Classification report:\n",
      "             precision    recall  f1-score   support\n",
      "\n",
      "          0       0.74      0.74      0.74      6295\n",
      "          1       0.72      0.72      0.72      5819\n",
      "\n",
      "avg / total       0.73      0.73      0.73     12114\n",
      "\n"
     ]
    },
    {
     "data": {
      "image/png": "[encoded data removed]",
      "text/plain": [
       "<matplotlib.figure.Figure at 0x24481267da0>"
      ]
     },
     "metadata": {},
     "output_type": "display_data"
    }
   ],
   "source": [
    "lsvc_result = example.linearSVC()"
   ]
  },
  {
   "cell_type": "code",
   "execution_count": 59,
   "metadata": {
    "collapsed": false
   },
   "outputs": [
    {
     "name": "stdout",
     "output_type": "stream",
     "text": [
      "prediction: [0 0 1]\n"
     ]
    }
   ],
   "source": [
    "print('prediction:', lsvc_result[0].predict(new_X_norm))\n",
    "try:print('prediction prob:', lsvc_result[0].predict_proba(new_X_norm))\n",
    "except: pass"
   ]
  },
  {
   "cell_type": "code",
   "execution_count": 60,
   "metadata": {
    "collapsed": false
   },
   "outputs": [
    {
     "name": "stdout",
     "output_type": "stream",
     "text": [
      "________________________________________________________________________________\n",
      "Training: \n",
      "RandomForestClassifier(bootstrap=True, class_weight=None, criterion='gini',\n",
      "            max_depth=None, max_features='auto', max_leaf_nodes=None,\n",
      "            min_samples_leaf=1, min_samples_split=2,\n",
      "            min_weight_fraction_leaf=0.0, n_estimators=10, n_jobs=1,\n",
      "            oob_score=False, random_state=None, verbose=0,\n",
      "            warm_start=False)\n",
      "\n",
      "train time: 0.841s\n",
      "test time:  0.029s\n",
      "accuracy:   0.991\n",
      "\n",
      "Classification report:\n",
      "             precision    recall  f1-score   support\n",
      "\n",
      "          0       0.99      0.99      0.99      6295\n",
      "          1       0.99      0.99      0.99      5819\n",
      "\n",
      "avg / total       0.99      0.99      0.99     12114\n",
      "\n"
     ]
    },
    {
     "data": {
      "image/png": "[encoded data removed]",
      "text/plain": [
       "<matplotlib.figure.Figure at 0x244821fc860>"
      ]
     },
     "metadata": {},
     "output_type": "display_data"
    }
   ],
   "source": [
    "rfc_result = example.RandomForest()"
   ]
  },
  {
   "cell_type": "code",
   "execution_count": 61,
   "metadata": {
    "collapsed": false
   },
   "outputs": [
    {
     "name": "stdout",
     "output_type": "stream",
     "text": [
      "prediction: [1 0 0]\n",
      "prediction prob: [[ 0.4  0.6]\n",
      " [ 0.5  0.5]\n",
      " [ 0.6  0.4]]\n"
     ]
    }
   ],
   "source": [
    "print('prediction:', rfc_result[0].predict(new_X_norm))\n",
    "try:print('prediction prob:', rfc_result[0].predict_proba(new_X_norm))\n",
    "except: pass"
   ]
  },
  {
   "cell_type": "markdown",
   "metadata": {},
   "source": [
    "## SMOTE"
   ]
  },
  {
   "cell_type": "code",
   "execution_count": 62,
   "metadata": {
    "collapsed": false
   },
   "outputs": [],
   "source": [
    "sampler = SMOTE(ratio = 4)\n",
    "X_smote, Y_smote = sampler.fit_transform(X_norm,Y_norm)"
   ]
  },
  {
   "cell_type": "code",
   "execution_count": 63,
   "metadata": {
    "collapsed": true
   },
   "outputs": [],
   "source": [
    "example = pilot(X_smote,Y_smote)"
   ]
  },
  {
   "cell_type": "code",
   "execution_count": 64,
   "metadata": {
    "collapsed": false
   },
   "outputs": [
    {
     "name": "stdout",
     "output_type": "stream",
     "text": [
      "________________________________________________________________________________\n",
      "Training: \n",
      "DecisionTreeClassifier(class_weight=None, criterion='gini', max_depth=None,\n",
      "            max_features=None, max_leaf_nodes=None, min_samples_leaf=25,\n",
      "            min_samples_split=2, min_weight_fraction_leaf=0.0,\n",
      "            presort=False, random_state=None, splitter='best')\n",
      "\n",
      "train time: 0.597s\n",
      "test time:  0.003s\n",
      "accuracy:   0.937\n",
      "\n",
      "Classification report:\n",
      "             precision    recall  f1-score   support\n",
      "\n",
      "          0       0.92      0.96      0.94      6117\n",
      "          1       0.95      0.92      0.93      5997\n",
      "\n",
      "avg / total       0.94      0.94      0.94     12114\n",
      "\n"
     ]
    },
    {
     "data": {
      "image/png": "[encoded data removed]",
      "text/plain": [
       "<matplotlib.figure.Figure at 0x244821f9ef0>"
      ]
     },
     "metadata": {},
     "output_type": "display_data"
    }
   ],
   "source": [
    "tree_result = example.DTree(min_samples_leaf = 25)"
   ]
  },
  {
   "cell_type": "code",
   "execution_count": 65,
   "metadata": {
    "collapsed": false
   },
   "outputs": [
    {
     "name": "stdout",
     "output_type": "stream",
     "text": [
      "prediction: [ 0.  0.  1.]\n",
      "prediction prob: [[ 1.          0.        ]\n",
      " [ 0.69230769  0.30769231]\n",
      " [ 0.          1.        ]]\n"
     ]
    }
   ],
   "source": [
    "print('prediction:', tree_result[0].predict(new_X_norm))\n",
    "try: print('prediction prob:', tree_result[0].predict_proba(new_X_norm))\n",
    "except: pass"
   ]
  },
  {
   "cell_type": "code",
   "execution_count": 66,
   "metadata": {
    "collapsed": false,
    "scrolled": false
   },
   "outputs": [
    {
     "name": "stdout",
     "output_type": "stream",
     "text": [
      "________________________________________________________________________________\n",
      "Training: \n",
      "KNeighborsClassifier(algorithm='auto', leaf_size=30, metric='minkowski',\n",
      "           metric_params=None, n_jobs=1, n_neighbors=7, p=2,\n",
      "           weights='uniform')\n",
      "\n",
      "train time: 0.282s\n",
      "test time:  7.598s\n",
      "accuracy:   0.863\n",
      "\n",
      "Classification report:\n",
      "             precision    recall  f1-score   support\n",
      "\n",
      "          0       0.93      0.79      0.85      6117\n",
      "          1       0.81      0.94      0.87      5997\n",
      "\n",
      "avg / total       0.87      0.86      0.86     12114\n",
      "\n"
     ]
    },
    {
     "data": {
      "image/png": "[encoded data removed]",
      "text/plain": [
       "<matplotlib.figure.Figure at 0x244821e4668>"
      ]
     },
     "metadata": {},
     "output_type": "display_data"
    }
   ],
   "source": [
    "knn_result = example.KNN(n_neighbors = 7)"
   ]
  },
  {
   "cell_type": "code",
   "execution_count": 67,
   "metadata": {
    "collapsed": false
   },
   "outputs": [
    {
     "name": "stdout",
     "output_type": "stream",
     "text": [
      "prediction: [ 1.  0.  0.]\n",
      "prediction prob: [[ 0.42857143  0.57142857]\n",
      " [ 1.          0.        ]\n",
      " [ 0.57142857  0.42857143]]\n"
     ]
    }
   ],
   "source": [
    "print('prediction:', knn_result[0].predict(new_X_norm))\n",
    "try: print('prediction prob:', knn_result[0].predict_proba(new_X_norm))\n",
    "except: pass"
   ]
  },
  {
   "cell_type": "code",
   "execution_count": 68,
   "metadata": {
    "collapsed": false,
    "scrolled": false
   },
   "outputs": [
    {
     "name": "stdout",
     "output_type": "stream",
     "text": [
      "________________________________________________________________________________\n",
      "Training: \n",
      "GaussianNB()\n",
      "\n",
      "train time: 0.040s\n",
      "test time:  0.011s\n",
      "accuracy:   0.696\n",
      "\n",
      "Classification report:\n",
      "             precision    recall  f1-score   support\n",
      "\n",
      "          0       0.77      0.57      0.65      6117\n",
      "          1       0.65      0.83      0.73      5997\n",
      "\n",
      "avg / total       0.71      0.70      0.69     12114\n",
      "\n"
     ]
    },
    {
     "data": {
      "image/png": "[encoded data removed]",
      "text/plain": [
       "<matplotlib.figure.Figure at 0x24482408080>"
      ]
     },
     "metadata": {},
     "output_type": "display_data"
    }
   ],
   "source": [
    "gnb_result = example.GaussianNaiveBayes()"
   ]
  },
  {
   "cell_type": "code",
   "execution_count": 69,
   "metadata": {
    "collapsed": false
   },
   "outputs": [
    {
     "name": "stdout",
     "output_type": "stream",
     "text": [
      "prediction: [ 0.  0.  0.]\n",
      "prediction prob: [[  1.00000000e+000   6.81969418e-127]\n",
      " [  1.00000000e+000   0.00000000e+000]\n",
      " [  1.00000000e+000   5.48395429e-025]]\n"
     ]
    }
   ],
   "source": [
    "print('prediction:', gnb_result[0].predict(new_X_norm))\n",
    "try: print('prediction prob:', gnb_result[0].predict_proba(new_X_norm))\n",
    "except: pass"
   ]
  },
  {
   "cell_type": "code",
   "execution_count": 70,
   "metadata": {
    "collapsed": false
   },
   "outputs": [
    {
     "name": "stdout",
     "output_type": "stream",
     "text": [
      "________________________________________________________________________________\n",
      "Training: \n",
      "LinearSVC(C=1.0, class_weight=None, dual=True, fit_intercept=True,\n",
      "     intercept_scaling=1, loss='squared_hinge', max_iter=1000,\n",
      "     multi_class='ovr', penalty='l2', random_state=None, tol=0.0001,\n",
      "     verbose=0)\n",
      "\n",
      "train time: 9.758s\n",
      "test time:  0.001s\n",
      "accuracy:   0.750\n",
      "\n",
      "Classification report:\n",
      "             precision    recall  f1-score   support\n",
      "\n",
      "          0       0.75      0.76      0.75      6117\n",
      "          1       0.75      0.74      0.75      5997\n",
      "\n",
      "avg / total       0.75      0.75      0.75     12114\n",
      "\n"
     ]
    },
    {
     "data": {
      "image/png": "[encoded data removed]",
      "text/plain": [
       "<matplotlib.figure.Figure at 0x244821fc2e8>"
      ]
     },
     "metadata": {},
     "output_type": "display_data"
    }
   ],
   "source": [
    "lsvc_result = example.linearSVC()"
   ]
  },
  {
   "cell_type": "code",
   "execution_count": 71,
   "metadata": {
    "collapsed": false
   },
   "outputs": [
    {
     "name": "stdout",
     "output_type": "stream",
     "text": [
      "prediction: [ 0.  0.  1.]\n"
     ]
    }
   ],
   "source": [
    "print('prediction:', lsvc_result[0].predict(new_X_norm))\n",
    "try:print('prediction prob:', lsvc_result[0].predict_proba(new_X_norm))\n",
    "except: pass"
   ]
  },
  {
   "cell_type": "code",
   "execution_count": 72,
   "metadata": {
    "collapsed": false
   },
   "outputs": [
    {
     "name": "stdout",
     "output_type": "stream",
     "text": [
      "________________________________________________________________________________\n",
      "Training: \n",
      "RandomForestClassifier(bootstrap=True, class_weight=None, criterion='gini',\n",
      "            max_depth=None, max_features='auto', max_leaf_nodes=None,\n",
      "            min_samples_leaf=1, min_samples_split=2,\n",
      "            min_weight_fraction_leaf=0.0, n_estimators=10, n_jobs=1,\n",
      "            oob_score=False, random_state=None, verbose=0,\n",
      "            warm_start=False)\n",
      "\n",
      "train time: 1.074s\n",
      "test time:  0.031s\n",
      "accuracy:   0.957\n",
      "\n",
      "Classification report:\n",
      "             precision    recall  f1-score   support\n",
      "\n",
      "          0       0.94      0.98      0.96      6117\n",
      "          1       0.98      0.93      0.96      5997\n",
      "\n",
      "avg / total       0.96      0.96      0.96     12114\n",
      "\n"
     ]
    },
    {
     "data": {
      "image/png": "[encoded data removed]",
      "text/plain": [
       "<matplotlib.figure.Figure at 0x244821fc7f0>"
      ]
     },
     "metadata": {},
     "output_type": "display_data"
    }
   ],
   "source": [
    "rfc_result = example.RandomForest()"
   ]
  },
  {
   "cell_type": "code",
   "execution_count": 73,
   "metadata": {
    "collapsed": false
   },
   "outputs": [
    {
     "name": "stdout",
     "output_type": "stream",
     "text": [
      "prediction: [ 1.  1.  0.]\n",
      "prediction prob: [[ 0.4  0.6]\n",
      " [ 0.4  0.6]\n",
      " [ 0.7  0.3]]\n"
     ]
    }
   ],
   "source": [
    "print('prediction:', rfc_result[0].predict(new_X_norm))\n",
    "try:print('prediction prob:', rfc_result[0].predict_proba(new_X_norm))\n",
    "except: pass"
   ]
  }
 ],
 "metadata": {
  "kernelspec": {
   "display_name": "Python 3",
   "language": "python",
   "name": "python3"
  },
  "language_info": {
   "codemirror_mode": {
    "name": "ipython",
    "version": 3
   },
   "file_extension": ".py",
   "mimetype": "text/x-python",
   "name": "python",
   "nbconvert_exporter": "python",
   "pygments_lexer": "ipython3",
   "version": "3.5.1"
  }
 },
 "nbformat": 4,
 "nbformat_minor": 0
}
